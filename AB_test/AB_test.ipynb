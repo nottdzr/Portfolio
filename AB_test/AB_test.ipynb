{
 "cells": [
  {
   "cell_type": "markdown",
   "id": "dfeea5e3",
   "metadata": {},
   "source": [
    "# Оценка результатов А/В теста по внедрению новой рекомендательной системы"
   ]
  },
  {
   "cell_type": "markdown",
   "id": "ec6b9508",
   "metadata": {
    "toc": true
   },
   "source": [
    "<h1>Table of Contents<span class=\"tocSkip\"></span></h1>\n",
    "<div class=\"toc\"><ul class=\"toc-item\"><li><span><a href=\"#Предобработка\" data-toc-modified-id=\"Предобработка-1\"><span class=\"toc-item-num\">1&nbsp;&nbsp;</span>Предобработка</a></span><ul class=\"toc-item\"><li><span><a href=\"#Изучение-датасетов\" data-toc-modified-id=\"Изучение-датасетов-1.1\"><span class=\"toc-item-num\">1.1&nbsp;&nbsp;</span>Изучение датасетов</a></span></li><li><span><a href=\"#Проверка-данных-на-соответствие-ТЗ\" data-toc-modified-id=\"Проверка-данных-на-соответствие-ТЗ-1.2\"><span class=\"toc-item-num\">1.2&nbsp;&nbsp;</span>Проверка данных на соответствие ТЗ</a></span><ul class=\"toc-item\"><li><span><a href=\"#Даты\" data-toc-modified-id=\"Даты-1.2.1\"><span class=\"toc-item-num\">1.2.1&nbsp;&nbsp;</span>Даты</a></span></li><li><span><a href=\"#Аудитория\" data-toc-modified-id=\"Аудитория-1.2.2\"><span class=\"toc-item-num\">1.2.2&nbsp;&nbsp;</span>Аудитория</a></span></li><li><span><a href=\"#Пересечения-по-тестам\" data-toc-modified-id=\"Пересечения-по-тестам-1.2.3\"><span class=\"toc-item-num\">1.2.3&nbsp;&nbsp;</span>Пересечения по тестам</a></span></li><li><span><a href=\"#Действия-пользователей-и-лайфтайм\" data-toc-modified-id=\"Действия-пользователей-и-лайфтайм-1.2.4\"><span class=\"toc-item-num\">1.2.4&nbsp;&nbsp;</span>Действия пользователей и лайфтайм</a></span></li><li><span><a href=\"#Частота-совершения-событий-по-дням\" data-toc-modified-id=\"Частота-совершения-событий-по-дням-1.2.5\"><span class=\"toc-item-num\">1.2.5&nbsp;&nbsp;</span>Частота совершения событий по дням</a></span></li><li><span><a href=\"#Пересечения-с-маркетинговыми-мероприятими\" data-toc-modified-id=\"Пересечения-с-маркетинговыми-мероприятими-1.2.6\"><span class=\"toc-item-num\">1.2.6&nbsp;&nbsp;</span>Пересечения с маркетинговыми мероприятими</a></span></li></ul></li></ul></li><li><span><a href=\"#Исследовательский-анализ-данных:\" data-toc-modified-id=\"Исследовательский-анализ-данных:-2\"><span class=\"toc-item-num\">2&nbsp;&nbsp;</span>Исследовательский анализ данных:</a></span><ul class=\"toc-item\"><li><span><a href=\"#Рапсределение-количества-событий\" data-toc-modified-id=\"Рапсределение-количества-событий-2.1\"><span class=\"toc-item-num\">2.1&nbsp;&nbsp;</span>Рапсределение количества событий</a></span></li><li><span><a href=\"#Воронка-и-конверсия\" data-toc-modified-id=\"Воронка-и-конверсия-2.2\"><span class=\"toc-item-num\">2.2&nbsp;&nbsp;</span>Воронка и конверсия</a></span></li><li><span><a href=\"#Особенности\" data-toc-modified-id=\"Особенности-2.3\"><span class=\"toc-item-num\">2.3&nbsp;&nbsp;</span>Особенности</a></span></li></ul></li><li><span><a href=\"#Оцените-результаты-A/B-тестирования\" data-toc-modified-id=\"Оцените-результаты-A/B-тестирования-3\"><span class=\"toc-item-num\">3&nbsp;&nbsp;</span>Оцените результаты A/B-тестирования</a></span></li><li><span><a href=\"#Вывод\" data-toc-modified-id=\"Вывод-4\"><span class=\"toc-item-num\">4&nbsp;&nbsp;</span>Вывод</a></span></li></ul></div>"
   ]
  },
  {
   "cell_type": "markdown",
   "id": "cc2390ff",
   "metadata": {},
   "source": [
    "**Цель:** принять решение о внедрении/отказа от улучшенной системы рекомендаций на основе проведенного А/B теста, в случае если тестирование проведено корректно.\n",
    "\n",
    "**Задача:** провести оценку A/B-теста с точки зрения соответствия техническому заданию (требования приведены ниже) и корректности проведения самого теста. Проанализировать полученные по итогам теста результаты. \n",
    "\n",
    "Для выполнения задачи используется ряд датасетов: профили пользователей, действия пользователей, участники тестов с распределением по группам, а также перечень првоеденных маркетинговых событий.\n",
    "\n",
    "Корректность проведения теста оценивается по следующим параметрам:\n",
    "- отсутствие/наличие пересечений с конкурирующим тестом;\n",
    "- отсутствие/наличие пользователей, участвующих в обеих группах теста одновременно;\n",
    "- отсутствие/наличие влияние сезонных изменений поведения покупателя и маркетинговых мероприятий;\n",
    "- соответствие требованиям ТЗ;\n",
    "- равномерность распределения пользователей по тестовым группам.\n",
    "\n",
    "# Техническое задание\n",
    "\n",
    "- Название теста: `recommender_system_test`;\n",
    "- группы: А — контрольная, B — новая платёжная воронка;\n",
    "- дата запуска: 2020-12-07;\n",
    "- дата остановки набора новых пользователей: 2020-12-21;\n",
    "- дата остановки: 2021-01-04;\n",
    "- аудитория: в тест должно быть отобрано 15% новых пользователей из региона EU;\n",
    "- назначение теста: тестирование изменений, связанных с внедрением улучшенной рекомендательной системы;\n",
    "- ожидаемое количество участников теста: 6000.\n",
    "- ожидаемый эффект: за 14 дней с момента регистрации пользователи покажут улучшение каждой метрики не менее, чем на 10%:\n",
    "    - конверсии в просмотр карточек товаров — событие `product_page`,\n",
    "    - просмотры корзины — `product_cart`,\n",
    "    - покупки — `purchase`."
   ]
  },
  {
   "cell_type": "markdown",
   "id": "33342350",
   "metadata": {},
   "source": [
    "## Предобработка"
   ]
  },
  {
   "cell_type": "markdown",
   "id": "075f02db",
   "metadata": {},
   "source": [
    "### Изучение датасетов"
   ]
  },
  {
   "cell_type": "code",
   "execution_count": 1,
   "id": "994d4f88",
   "metadata": {},
   "outputs": [],
   "source": [
    "import pandas as pd\n",
    "import numpy as np\n",
    "from statsmodels.stats.proportion import proportions_ztest\n",
    "import datetime as dt\n",
    "import matplotlib.pyplot as plt\n",
    "import seaborn as sns\n",
    "import plotly.express as px"
   ]
  },
  {
   "cell_type": "code",
   "execution_count": 2,
   "id": "ea0bc115",
   "metadata": {},
   "outputs": [],
   "source": [
    "participants = pd.read_csv('/datasets/final_ab_participants.csv')\n",
    "marketing_events = pd.read_csv('/datasets/ab_project_marketing_events.csv')\n",
    "new_users = pd.read_csv('/datasets/final_ab_new_users.csv')\n",
    "events = pd.read_csv('/datasets/final_ab_events.csv')"
   ]
  },
  {
   "cell_type": "code",
   "execution_count": 3,
   "id": "84da5c13",
   "metadata": {},
   "outputs": [
    {
     "data": {
      "text/html": [
       "<div>\n",
       "<style scoped>\n",
       "    .dataframe tbody tr th:only-of-type {\n",
       "        vertical-align: middle;\n",
       "    }\n",
       "\n",
       "    .dataframe tbody tr th {\n",
       "        vertical-align: top;\n",
       "    }\n",
       "\n",
       "    .dataframe thead th {\n",
       "        text-align: right;\n",
       "    }\n",
       "</style>\n",
       "<table border=\"1\" class=\"dataframe\">\n",
       "  <thead>\n",
       "    <tr style=\"text-align: right;\">\n",
       "      <th></th>\n",
       "      <th>user_id</th>\n",
       "      <th>group</th>\n",
       "      <th>ab_test</th>\n",
       "    </tr>\n",
       "  </thead>\n",
       "  <tbody>\n",
       "    <tr>\n",
       "      <th>0</th>\n",
       "      <td>D1ABA3E2887B6A73</td>\n",
       "      <td>A</td>\n",
       "      <td>recommender_system_test</td>\n",
       "    </tr>\n",
       "    <tr>\n",
       "      <th>1</th>\n",
       "      <td>A7A3664BD6242119</td>\n",
       "      <td>A</td>\n",
       "      <td>recommender_system_test</td>\n",
       "    </tr>\n",
       "    <tr>\n",
       "      <th>2</th>\n",
       "      <td>DABC14FDDFADD29E</td>\n",
       "      <td>A</td>\n",
       "      <td>recommender_system_test</td>\n",
       "    </tr>\n",
       "    <tr>\n",
       "      <th>3</th>\n",
       "      <td>04988C5DF189632E</td>\n",
       "      <td>A</td>\n",
       "      <td>recommender_system_test</td>\n",
       "    </tr>\n",
       "    <tr>\n",
       "      <th>4</th>\n",
       "      <td>482F14783456D21B</td>\n",
       "      <td>B</td>\n",
       "      <td>recommender_system_test</td>\n",
       "    </tr>\n",
       "  </tbody>\n",
       "</table>\n",
       "</div>"
      ],
      "text/plain": [
       "            user_id group                  ab_test\n",
       "0  D1ABA3E2887B6A73     A  recommender_system_test\n",
       "1  A7A3664BD6242119     A  recommender_system_test\n",
       "2  DABC14FDDFADD29E     A  recommender_system_test\n",
       "3  04988C5DF189632E     A  recommender_system_test\n",
       "4  482F14783456D21B     B  recommender_system_test"
      ]
     },
     "metadata": {},
     "output_type": "display_data"
    },
    {
     "name": "stdout",
     "output_type": "stream",
     "text": [
      "<class 'pandas.core.frame.DataFrame'>\n",
      "RangeIndex: 18268 entries, 0 to 18267\n",
      "Data columns (total 3 columns):\n",
      " #   Column   Non-Null Count  Dtype \n",
      "---  ------   --------------  ----- \n",
      " 0   user_id  18268 non-null  object\n",
      " 1   group    18268 non-null  object\n",
      " 2   ab_test  18268 non-null  object\n",
      "dtypes: object(3)\n",
      "memory usage: 428.3+ KB\n"
     ]
    },
    {
     "data": {
      "text/plain": [
       "None"
      ]
     },
     "metadata": {},
     "output_type": "display_data"
    },
    {
     "data": {
      "text/html": [
       "<div>\n",
       "<style scoped>\n",
       "    .dataframe tbody tr th:only-of-type {\n",
       "        vertical-align: middle;\n",
       "    }\n",
       "\n",
       "    .dataframe tbody tr th {\n",
       "        vertical-align: top;\n",
       "    }\n",
       "\n",
       "    .dataframe thead th {\n",
       "        text-align: right;\n",
       "    }\n",
       "</style>\n",
       "<table border=\"1\" class=\"dataframe\">\n",
       "  <thead>\n",
       "    <tr style=\"text-align: right;\">\n",
       "      <th></th>\n",
       "      <th>count</th>\n",
       "      <th>unique</th>\n",
       "      <th>top</th>\n",
       "      <th>freq</th>\n",
       "    </tr>\n",
       "  </thead>\n",
       "  <tbody>\n",
       "    <tr>\n",
       "      <th>user_id</th>\n",
       "      <td>18268</td>\n",
       "      <td>16666</td>\n",
       "      <td>0FDFDA0B2DEC2D91</td>\n",
       "      <td>2</td>\n",
       "    </tr>\n",
       "    <tr>\n",
       "      <th>group</th>\n",
       "      <td>18268</td>\n",
       "      <td>2</td>\n",
       "      <td>A</td>\n",
       "      <td>9655</td>\n",
       "    </tr>\n",
       "    <tr>\n",
       "      <th>ab_test</th>\n",
       "      <td>18268</td>\n",
       "      <td>2</td>\n",
       "      <td>interface_eu_test</td>\n",
       "      <td>11567</td>\n",
       "    </tr>\n",
       "  </tbody>\n",
       "</table>\n",
       "</div>"
      ],
      "text/plain": [
       "         count unique                top   freq\n",
       "user_id  18268  16666   0FDFDA0B2DEC2D91      2\n",
       "group    18268      2                  A   9655\n",
       "ab_test  18268      2  interface_eu_test  11567"
      ]
     },
     "execution_count": 3,
     "metadata": {},
     "output_type": "execute_result"
    }
   ],
   "source": [
    "display(participants.head())\n",
    "display(participants.info())\n",
    "participants.describe().T"
   ]
  },
  {
   "cell_type": "code",
   "execution_count": 4,
   "id": "d0309ff2",
   "metadata": {},
   "outputs": [
    {
     "data": {
      "text/plain": [
       "0"
      ]
     },
     "execution_count": 4,
     "metadata": {},
     "output_type": "execute_result"
    }
   ],
   "source": [
    "participants.duplicated().sum()"
   ]
  },
  {
   "cell_type": "markdown",
   "id": "d3c2515e",
   "metadata": {},
   "source": [
    "Пропусков и дубликатов нет, менять формат данных/названия в столбцах не нужно."
   ]
  },
  {
   "cell_type": "code",
   "execution_count": 5,
   "id": "a5305988",
   "metadata": {},
   "outputs": [
    {
     "data": {
      "text/html": [
       "<div>\n",
       "<style scoped>\n",
       "    .dataframe tbody tr th:only-of-type {\n",
       "        vertical-align: middle;\n",
       "    }\n",
       "\n",
       "    .dataframe tbody tr th {\n",
       "        vertical-align: top;\n",
       "    }\n",
       "\n",
       "    .dataframe thead th {\n",
       "        text-align: right;\n",
       "    }\n",
       "</style>\n",
       "<table border=\"1\" class=\"dataframe\">\n",
       "  <thead>\n",
       "    <tr style=\"text-align: right;\">\n",
       "      <th></th>\n",
       "      <th>name</th>\n",
       "      <th>regions</th>\n",
       "      <th>start_dt</th>\n",
       "      <th>finish_dt</th>\n",
       "    </tr>\n",
       "  </thead>\n",
       "  <tbody>\n",
       "    <tr>\n",
       "      <th>0</th>\n",
       "      <td>Christmas&amp;New Year Promo</td>\n",
       "      <td>EU, N.America</td>\n",
       "      <td>2020-12-25</td>\n",
       "      <td>2021-01-03</td>\n",
       "    </tr>\n",
       "    <tr>\n",
       "      <th>1</th>\n",
       "      <td>St. Valentine's Day Giveaway</td>\n",
       "      <td>EU, CIS, APAC, N.America</td>\n",
       "      <td>2020-02-14</td>\n",
       "      <td>2020-02-16</td>\n",
       "    </tr>\n",
       "    <tr>\n",
       "      <th>2</th>\n",
       "      <td>St. Patric's Day Promo</td>\n",
       "      <td>EU, N.America</td>\n",
       "      <td>2020-03-17</td>\n",
       "      <td>2020-03-19</td>\n",
       "    </tr>\n",
       "    <tr>\n",
       "      <th>3</th>\n",
       "      <td>Easter Promo</td>\n",
       "      <td>EU, CIS, APAC, N.America</td>\n",
       "      <td>2020-04-12</td>\n",
       "      <td>2020-04-19</td>\n",
       "    </tr>\n",
       "    <tr>\n",
       "      <th>4</th>\n",
       "      <td>4th of July Promo</td>\n",
       "      <td>N.America</td>\n",
       "      <td>2020-07-04</td>\n",
       "      <td>2020-07-11</td>\n",
       "    </tr>\n",
       "  </tbody>\n",
       "</table>\n",
       "</div>"
      ],
      "text/plain": [
       "                           name                   regions    start_dt  \\\n",
       "0      Christmas&New Year Promo             EU, N.America  2020-12-25   \n",
       "1  St. Valentine's Day Giveaway  EU, CIS, APAC, N.America  2020-02-14   \n",
       "2        St. Patric's Day Promo             EU, N.America  2020-03-17   \n",
       "3                  Easter Promo  EU, CIS, APAC, N.America  2020-04-12   \n",
       "4             4th of July Promo                 N.America  2020-07-04   \n",
       "\n",
       "    finish_dt  \n",
       "0  2021-01-03  \n",
       "1  2020-02-16  \n",
       "2  2020-03-19  \n",
       "3  2020-04-19  \n",
       "4  2020-07-11  "
      ]
     },
     "metadata": {},
     "output_type": "display_data"
    },
    {
     "name": "stdout",
     "output_type": "stream",
     "text": [
      "<class 'pandas.core.frame.DataFrame'>\n",
      "RangeIndex: 14 entries, 0 to 13\n",
      "Data columns (total 4 columns):\n",
      " #   Column     Non-Null Count  Dtype \n",
      "---  ------     --------------  ----- \n",
      " 0   name       14 non-null     object\n",
      " 1   regions    14 non-null     object\n",
      " 2   start_dt   14 non-null     object\n",
      " 3   finish_dt  14 non-null     object\n",
      "dtypes: object(4)\n",
      "memory usage: 576.0+ bytes\n"
     ]
    },
    {
     "data": {
      "text/plain": [
       "None"
      ]
     },
     "metadata": {},
     "output_type": "display_data"
    },
    {
     "data": {
      "text/html": [
       "<div>\n",
       "<style scoped>\n",
       "    .dataframe tbody tr th:only-of-type {\n",
       "        vertical-align: middle;\n",
       "    }\n",
       "\n",
       "    .dataframe tbody tr th {\n",
       "        vertical-align: top;\n",
       "    }\n",
       "\n",
       "    .dataframe thead th {\n",
       "        text-align: right;\n",
       "    }\n",
       "</style>\n",
       "<table border=\"1\" class=\"dataframe\">\n",
       "  <thead>\n",
       "    <tr style=\"text-align: right;\">\n",
       "      <th></th>\n",
       "      <th>count</th>\n",
       "      <th>unique</th>\n",
       "      <th>top</th>\n",
       "      <th>freq</th>\n",
       "    </tr>\n",
       "  </thead>\n",
       "  <tbody>\n",
       "    <tr>\n",
       "      <th>name</th>\n",
       "      <td>14</td>\n",
       "      <td>14</td>\n",
       "      <td>Christmas&amp;New Year Promo</td>\n",
       "      <td>1</td>\n",
       "    </tr>\n",
       "    <tr>\n",
       "      <th>regions</th>\n",
       "      <td>14</td>\n",
       "      <td>6</td>\n",
       "      <td>APAC</td>\n",
       "      <td>4</td>\n",
       "    </tr>\n",
       "    <tr>\n",
       "      <th>start_dt</th>\n",
       "      <td>14</td>\n",
       "      <td>14</td>\n",
       "      <td>2020-12-25</td>\n",
       "      <td>1</td>\n",
       "    </tr>\n",
       "    <tr>\n",
       "      <th>finish_dt</th>\n",
       "      <td>14</td>\n",
       "      <td>14</td>\n",
       "      <td>2021-01-03</td>\n",
       "      <td>1</td>\n",
       "    </tr>\n",
       "  </tbody>\n",
       "</table>\n",
       "</div>"
      ],
      "text/plain": [
       "          count unique                       top freq\n",
       "name         14     14  Christmas&New Year Promo    1\n",
       "regions      14      6                      APAC    4\n",
       "start_dt     14     14                2020-12-25    1\n",
       "finish_dt    14     14                2021-01-03    1"
      ]
     },
     "execution_count": 5,
     "metadata": {},
     "output_type": "execute_result"
    }
   ],
   "source": [
    "display(marketing_events.head())\n",
    "display(marketing_events.info())\n",
    "marketing_events.describe().T"
   ]
  },
  {
   "cell_type": "code",
   "execution_count": 6,
   "id": "3d7d539e",
   "metadata": {},
   "outputs": [
    {
     "data": {
      "text/plain": [
       "0"
      ]
     },
     "execution_count": 6,
     "metadata": {},
     "output_type": "execute_result"
    }
   ],
   "source": [
    "marketing_events.duplicated().sum()"
   ]
  },
  {
   "cell_type": "markdown",
   "id": "9b45dde2",
   "metadata": {},
   "source": [
    "Пропусков и дубликатов не обнаружено. Нужно привести формат данных в столбцах с датой к корректному."
   ]
  },
  {
   "cell_type": "code",
   "execution_count": 7,
   "id": "320797ab",
   "metadata": {},
   "outputs": [],
   "source": [
    "marketing_events['start_dt'] = pd.to_datetime(marketing_events['start_dt'], format='%Y-%m-%d')\n",
    "marketing_events['finish_dt'] = pd.to_datetime(marketing_events['finish_dt'], format='%Y-%m-%d')"
   ]
  },
  {
   "cell_type": "code",
   "execution_count": 8,
   "id": "198a57b3",
   "metadata": {},
   "outputs": [
    {
     "data": {
      "text/html": [
       "<div>\n",
       "<style scoped>\n",
       "    .dataframe tbody tr th:only-of-type {\n",
       "        vertical-align: middle;\n",
       "    }\n",
       "\n",
       "    .dataframe tbody tr th {\n",
       "        vertical-align: top;\n",
       "    }\n",
       "\n",
       "    .dataframe thead th {\n",
       "        text-align: right;\n",
       "    }\n",
       "</style>\n",
       "<table border=\"1\" class=\"dataframe\">\n",
       "  <thead>\n",
       "    <tr style=\"text-align: right;\">\n",
       "      <th></th>\n",
       "      <th>user_id</th>\n",
       "      <th>first_date</th>\n",
       "      <th>region</th>\n",
       "      <th>device</th>\n",
       "    </tr>\n",
       "  </thead>\n",
       "  <tbody>\n",
       "    <tr>\n",
       "      <th>0</th>\n",
       "      <td>D72A72121175D8BE</td>\n",
       "      <td>2020-12-07</td>\n",
       "      <td>EU</td>\n",
       "      <td>PC</td>\n",
       "    </tr>\n",
       "    <tr>\n",
       "      <th>1</th>\n",
       "      <td>F1C668619DFE6E65</td>\n",
       "      <td>2020-12-07</td>\n",
       "      <td>N.America</td>\n",
       "      <td>Android</td>\n",
       "    </tr>\n",
       "    <tr>\n",
       "      <th>2</th>\n",
       "      <td>2E1BF1D4C37EA01F</td>\n",
       "      <td>2020-12-07</td>\n",
       "      <td>EU</td>\n",
       "      <td>PC</td>\n",
       "    </tr>\n",
       "    <tr>\n",
       "      <th>3</th>\n",
       "      <td>50734A22C0C63768</td>\n",
       "      <td>2020-12-07</td>\n",
       "      <td>EU</td>\n",
       "      <td>iPhone</td>\n",
       "    </tr>\n",
       "    <tr>\n",
       "      <th>4</th>\n",
       "      <td>E1BDDCE0DAFA2679</td>\n",
       "      <td>2020-12-07</td>\n",
       "      <td>N.America</td>\n",
       "      <td>iPhone</td>\n",
       "    </tr>\n",
       "  </tbody>\n",
       "</table>\n",
       "</div>"
      ],
      "text/plain": [
       "            user_id  first_date     region   device\n",
       "0  D72A72121175D8BE  2020-12-07         EU       PC\n",
       "1  F1C668619DFE6E65  2020-12-07  N.America  Android\n",
       "2  2E1BF1D4C37EA01F  2020-12-07         EU       PC\n",
       "3  50734A22C0C63768  2020-12-07         EU   iPhone\n",
       "4  E1BDDCE0DAFA2679  2020-12-07  N.America   iPhone"
      ]
     },
     "metadata": {},
     "output_type": "display_data"
    },
    {
     "name": "stdout",
     "output_type": "stream",
     "text": [
      "<class 'pandas.core.frame.DataFrame'>\n",
      "RangeIndex: 61733 entries, 0 to 61732\n",
      "Data columns (total 4 columns):\n",
      " #   Column      Non-Null Count  Dtype \n",
      "---  ------      --------------  ----- \n",
      " 0   user_id     61733 non-null  object\n",
      " 1   first_date  61733 non-null  object\n",
      " 2   region      61733 non-null  object\n",
      " 3   device      61733 non-null  object\n",
      "dtypes: object(4)\n",
      "memory usage: 1.9+ MB\n"
     ]
    },
    {
     "data": {
      "text/plain": [
       "None"
      ]
     },
     "metadata": {},
     "output_type": "display_data"
    },
    {
     "data": {
      "text/html": [
       "<div>\n",
       "<style scoped>\n",
       "    .dataframe tbody tr th:only-of-type {\n",
       "        vertical-align: middle;\n",
       "    }\n",
       "\n",
       "    .dataframe tbody tr th {\n",
       "        vertical-align: top;\n",
       "    }\n",
       "\n",
       "    .dataframe thead th {\n",
       "        text-align: right;\n",
       "    }\n",
       "</style>\n",
       "<table border=\"1\" class=\"dataframe\">\n",
       "  <thead>\n",
       "    <tr style=\"text-align: right;\">\n",
       "      <th></th>\n",
       "      <th>count</th>\n",
       "      <th>unique</th>\n",
       "      <th>top</th>\n",
       "      <th>freq</th>\n",
       "    </tr>\n",
       "  </thead>\n",
       "  <tbody>\n",
       "    <tr>\n",
       "      <th>user_id</th>\n",
       "      <td>61733</td>\n",
       "      <td>61733</td>\n",
       "      <td>D72A72121175D8BE</td>\n",
       "      <td>1</td>\n",
       "    </tr>\n",
       "    <tr>\n",
       "      <th>first_date</th>\n",
       "      <td>61733</td>\n",
       "      <td>17</td>\n",
       "      <td>2020-12-21</td>\n",
       "      <td>6290</td>\n",
       "    </tr>\n",
       "    <tr>\n",
       "      <th>region</th>\n",
       "      <td>61733</td>\n",
       "      <td>4</td>\n",
       "      <td>EU</td>\n",
       "      <td>46270</td>\n",
       "    </tr>\n",
       "    <tr>\n",
       "      <th>device</th>\n",
       "      <td>61733</td>\n",
       "      <td>4</td>\n",
       "      <td>Android</td>\n",
       "      <td>27520</td>\n",
       "    </tr>\n",
       "  </tbody>\n",
       "</table>\n",
       "</div>"
      ],
      "text/plain": [
       "            count unique               top   freq\n",
       "user_id     61733  61733  D72A72121175D8BE      1\n",
       "first_date  61733     17        2020-12-21   6290\n",
       "region      61733      4                EU  46270\n",
       "device      61733      4           Android  27520"
      ]
     },
     "execution_count": 8,
     "metadata": {},
     "output_type": "execute_result"
    }
   ],
   "source": [
    "display(new_users.head())\n",
    "display(new_users.info())\n",
    "new_users.describe().T"
   ]
  },
  {
   "cell_type": "code",
   "execution_count": 9,
   "id": "2a6a48da",
   "metadata": {},
   "outputs": [
    {
     "data": {
      "text/plain": [
       "0"
      ]
     },
     "execution_count": 9,
     "metadata": {},
     "output_type": "execute_result"
    }
   ],
   "source": [
    "new_users.duplicated().sum()"
   ]
  },
  {
   "cell_type": "code",
   "execution_count": 10,
   "id": "523ba4c8",
   "metadata": {},
   "outputs": [
    {
     "data": {
      "text/plain": [
       "0"
      ]
     },
     "execution_count": 10,
     "metadata": {},
     "output_type": "execute_result"
    }
   ],
   "source": [
    "new_users['user_id'].duplicated().sum()"
   ]
  },
  {
   "cell_type": "markdown",
   "id": "4706045c",
   "metadata": {},
   "source": [
    "Пропусков и дубликатов не обнаружено. Нужно привести формат данных в столбце с датой к корректному."
   ]
  },
  {
   "cell_type": "code",
   "execution_count": 11,
   "id": "79bf5954",
   "metadata": {},
   "outputs": [],
   "source": [
    "new_users['first_date'] = pd.to_datetime(new_users['first_date'], format='%Y-%m-%d')"
   ]
  },
  {
   "cell_type": "code",
   "execution_count": 12,
   "id": "a4ddbb99",
   "metadata": {},
   "outputs": [
    {
     "data": {
      "text/html": [
       "<div>\n",
       "<style scoped>\n",
       "    .dataframe tbody tr th:only-of-type {\n",
       "        vertical-align: middle;\n",
       "    }\n",
       "\n",
       "    .dataframe tbody tr th {\n",
       "        vertical-align: top;\n",
       "    }\n",
       "\n",
       "    .dataframe thead th {\n",
       "        text-align: right;\n",
       "    }\n",
       "</style>\n",
       "<table border=\"1\" class=\"dataframe\">\n",
       "  <thead>\n",
       "    <tr style=\"text-align: right;\">\n",
       "      <th></th>\n",
       "      <th>user_id</th>\n",
       "      <th>event_dt</th>\n",
       "      <th>event_name</th>\n",
       "      <th>details</th>\n",
       "    </tr>\n",
       "  </thead>\n",
       "  <tbody>\n",
       "    <tr>\n",
       "      <th>0</th>\n",
       "      <td>E1BDDCE0DAFA2679</td>\n",
       "      <td>2020-12-07 20:22:03</td>\n",
       "      <td>purchase</td>\n",
       "      <td>99.99</td>\n",
       "    </tr>\n",
       "    <tr>\n",
       "      <th>1</th>\n",
       "      <td>7B6452F081F49504</td>\n",
       "      <td>2020-12-07 09:22:53</td>\n",
       "      <td>purchase</td>\n",
       "      <td>9.99</td>\n",
       "    </tr>\n",
       "    <tr>\n",
       "      <th>2</th>\n",
       "      <td>9CD9F34546DF254C</td>\n",
       "      <td>2020-12-07 12:59:29</td>\n",
       "      <td>purchase</td>\n",
       "      <td>4.99</td>\n",
       "    </tr>\n",
       "    <tr>\n",
       "      <th>3</th>\n",
       "      <td>96F27A054B191457</td>\n",
       "      <td>2020-12-07 04:02:40</td>\n",
       "      <td>purchase</td>\n",
       "      <td>4.99</td>\n",
       "    </tr>\n",
       "    <tr>\n",
       "      <th>4</th>\n",
       "      <td>1FD7660FDF94CA1F</td>\n",
       "      <td>2020-12-07 10:15:09</td>\n",
       "      <td>purchase</td>\n",
       "      <td>4.99</td>\n",
       "    </tr>\n",
       "  </tbody>\n",
       "</table>\n",
       "</div>"
      ],
      "text/plain": [
       "            user_id             event_dt event_name  details\n",
       "0  E1BDDCE0DAFA2679  2020-12-07 20:22:03   purchase    99.99\n",
       "1  7B6452F081F49504  2020-12-07 09:22:53   purchase     9.99\n",
       "2  9CD9F34546DF254C  2020-12-07 12:59:29   purchase     4.99\n",
       "3  96F27A054B191457  2020-12-07 04:02:40   purchase     4.99\n",
       "4  1FD7660FDF94CA1F  2020-12-07 10:15:09   purchase     4.99"
      ]
     },
     "metadata": {},
     "output_type": "display_data"
    },
    {
     "name": "stdout",
     "output_type": "stream",
     "text": [
      "<class 'pandas.core.frame.DataFrame'>\n",
      "RangeIndex: 440317 entries, 0 to 440316\n",
      "Data columns (total 4 columns):\n",
      " #   Column      Non-Null Count   Dtype  \n",
      "---  ------      --------------   -----  \n",
      " 0   user_id     440317 non-null  object \n",
      " 1   event_dt    440317 non-null  object \n",
      " 2   event_name  440317 non-null  object \n",
      " 3   details     62740 non-null   float64\n",
      "dtypes: float64(1), object(3)\n",
      "memory usage: 13.4+ MB\n"
     ]
    },
    {
     "data": {
      "text/plain": [
       "None"
      ]
     },
     "metadata": {},
     "output_type": "display_data"
    },
    {
     "data": {
      "text/html": [
       "<div>\n",
       "<style scoped>\n",
       "    .dataframe tbody tr th:only-of-type {\n",
       "        vertical-align: middle;\n",
       "    }\n",
       "\n",
       "    .dataframe tbody tr th {\n",
       "        vertical-align: top;\n",
       "    }\n",
       "\n",
       "    .dataframe thead th {\n",
       "        text-align: right;\n",
       "    }\n",
       "</style>\n",
       "<table border=\"1\" class=\"dataframe\">\n",
       "  <thead>\n",
       "    <tr style=\"text-align: right;\">\n",
       "      <th></th>\n",
       "      <th>count</th>\n",
       "      <th>mean</th>\n",
       "      <th>std</th>\n",
       "      <th>min</th>\n",
       "      <th>25%</th>\n",
       "      <th>50%</th>\n",
       "      <th>75%</th>\n",
       "      <th>max</th>\n",
       "    </tr>\n",
       "  </thead>\n",
       "  <tbody>\n",
       "    <tr>\n",
       "      <th>details</th>\n",
       "      <td>62740.0</td>\n",
       "      <td>23.877631</td>\n",
       "      <td>72.180465</td>\n",
       "      <td>4.99</td>\n",
       "      <td>4.99</td>\n",
       "      <td>4.99</td>\n",
       "      <td>9.99</td>\n",
       "      <td>499.99</td>\n",
       "    </tr>\n",
       "  </tbody>\n",
       "</table>\n",
       "</div>"
      ],
      "text/plain": [
       "           count       mean        std   min   25%   50%   75%     max\n",
       "details  62740.0  23.877631  72.180465  4.99  4.99  4.99  9.99  499.99"
      ]
     },
     "execution_count": 12,
     "metadata": {},
     "output_type": "execute_result"
    }
   ],
   "source": [
    "display(events.head())\n",
    "display(events.info())\n",
    "events.describe().T"
   ]
  },
  {
   "cell_type": "code",
   "execution_count": 13,
   "id": "74165f92",
   "metadata": {},
   "outputs": [
    {
     "data": {
      "text/plain": [
       "0"
      ]
     },
     "execution_count": 13,
     "metadata": {},
     "output_type": "execute_result"
    }
   ],
   "source": [
    "events.duplicated().sum()"
   ]
  },
  {
   "cell_type": "markdown",
   "id": "cafd138a",
   "metadata": {},
   "source": [
    "Дубликаты отстутствуют. В столбце details есть большая доля пропусков. Нужно их изучить, но для начала приведем данные в столбце с датой к нужному формату."
   ]
  },
  {
   "cell_type": "code",
   "execution_count": 14,
   "id": "c56e7a7d",
   "metadata": {},
   "outputs": [],
   "source": [
    "events['event_dt'] = pd.to_datetime(events['event_dt'], format='%Y-%m-%d %H:%M:%S')"
   ]
  },
  {
   "cell_type": "markdown",
   "id": "6e19f291",
   "metadata": {},
   "source": [
    "Посмотрим какие события встречаются в датасете."
   ]
  },
  {
   "cell_type": "code",
   "execution_count": 15,
   "id": "8444d035",
   "metadata": {},
   "outputs": [
    {
     "data": {
      "text/plain": [
       "array(['purchase', 'product_cart', 'product_page', 'login'], dtype=object)"
      ]
     },
     "execution_count": 15,
     "metadata": {},
     "output_type": "execute_result"
    }
   ],
   "source": [
    "events['event_name'].unique()"
   ]
  },
  {
   "cell_type": "markdown",
   "id": "a83920b6",
   "metadata": {},
   "source": [
    "Посмотрим какие события встречаются в строках с пропусками в details."
   ]
  },
  {
   "cell_type": "code",
   "execution_count": 16,
   "id": "33630639",
   "metadata": {},
   "outputs": [
    {
     "data": {
      "text/plain": [
       "array(['product_cart', 'product_page', 'login'], dtype=object)"
      ]
     },
     "execution_count": 16,
     "metadata": {},
     "output_type": "execute_result"
    }
   ],
   "source": [
    "events[events['details'].isna()]['event_name'].unique()"
   ]
  },
  {
   "cell_type": "markdown",
   "id": "143d7a31",
   "metadata": {},
   "source": [
    "В строках с пропусками в details встречаются все события, кроме `purchase`, значит в столбце details указана сумма покупки. При других событиях (логин, просмотр карточки товара и просмотр корзины) пользователь не совершает покупку, а значит ничего не тратит. Получается, что пропуски в этом столбце не ошибка. Можно просто оставить как есть. "
   ]
  },
  {
   "cell_type": "markdown",
   "id": "98dee6b2",
   "metadata": {},
   "source": [
    "### Проверка данных на соответствие ТЗ"
   ]
  },
  {
   "cell_type": "markdown",
   "id": "89f6005e",
   "metadata": {},
   "source": [
    "#### Даты\n",
    "Согласно ТЗ:\n",
    "- даты проведения теста: с 2020-12-07 по 2021-01-04;\n",
    "- дата остановки набора новых пользователей: 2020-12-21."
   ]
  },
  {
   "cell_type": "code",
   "execution_count": 17,
   "id": "d5ee8e7d",
   "metadata": {},
   "outputs": [
    {
     "name": "stdout",
     "output_type": "stream",
     "text": [
      "Период регистрации новых пользователей: с 2020-12-07 00:00:00 по 2020-12-23 00:00:00\n",
      "Пользователи совершали события в период с 2020-12-07 00:00:33 по 2020-12-30 23:36:33\n"
     ]
    }
   ],
   "source": [
    "print('Период регистрации новых пользователей: с', new_users['first_date'].min(), 'по', new_users['first_date'].max())\n",
    "print('Пользователи совершали события в период с', events['event_dt'].min(), 'по', events['event_dt'].max())"
   ]
  },
  {
   "cell_type": "markdown",
   "id": "13f77b6a",
   "metadata": {},
   "source": [
    "В полученных для анализа датасетах присутствуют пользователи, зарегистрировавшиеся после даты остановки набора новых пользователей - учитывать их в анализе А/Б теста нельзя, удалим их из датасета.\n",
    "\n",
    "Период совершения различных события пользователями укладывается в даты проведения теста, однако последние действия были совершены 30 декабря, в то время как дата окончания теста - 4 января. Это могло исказить результаты теста. Кроме того, согласно ТЗ необходимо учитывать только те события, которые были совершены пользователем в течении 14 дней с момента регистрации - это будет необходимо учесть при дальнейшем анализе."
   ]
  },
  {
   "cell_type": "code",
   "execution_count": 18,
   "id": "f34483be",
   "metadata": {},
   "outputs": [
    {
     "data": {
      "text/plain": [
       "61733"
      ]
     },
     "execution_count": 18,
     "metadata": {},
     "output_type": "execute_result"
    }
   ],
   "source": [
    "len(new_users)"
   ]
  },
  {
   "cell_type": "code",
   "execution_count": 19,
   "id": "be7c7379",
   "metadata": {},
   "outputs": [],
   "source": [
    "new_users = new_users.query('first_date <=\"2020-12-21\"')"
   ]
  },
  {
   "cell_type": "code",
   "execution_count": 20,
   "id": "645196f9",
   "metadata": {},
   "outputs": [
    {
     "data": {
      "text/plain": [
       "56470"
      ]
     },
     "execution_count": 20,
     "metadata": {},
     "output_type": "execute_result"
    }
   ],
   "source": [
    "len(new_users)"
   ]
  },
  {
   "cell_type": "markdown",
   "id": "050226ff",
   "metadata": {},
   "source": [
    "#### Аудитория"
   ]
  },
  {
   "cell_type": "code",
   "execution_count": 21,
   "id": "1893fc45",
   "metadata": {},
   "outputs": [
    {
     "data": {
      "text/html": [
       "<div>\n",
       "<style scoped>\n",
       "    .dataframe tbody tr th:only-of-type {\n",
       "        vertical-align: middle;\n",
       "    }\n",
       "\n",
       "    .dataframe tbody tr th {\n",
       "        vertical-align: top;\n",
       "    }\n",
       "\n",
       "    .dataframe thead th {\n",
       "        text-align: right;\n",
       "    }\n",
       "</style>\n",
       "<table border=\"1\" class=\"dataframe\">\n",
       "  <thead>\n",
       "    <tr style=\"text-align: right;\">\n",
       "      <th></th>\n",
       "      <th></th>\n",
       "      <th>user_id</th>\n",
       "    </tr>\n",
       "    <tr>\n",
       "      <th>ab_test</th>\n",
       "      <th>group</th>\n",
       "      <th></th>\n",
       "    </tr>\n",
       "  </thead>\n",
       "  <tbody>\n",
       "    <tr>\n",
       "      <th rowspan=\"2\" valign=\"top\">interface_eu_test</th>\n",
       "      <th>A</th>\n",
       "      <td>5831</td>\n",
       "    </tr>\n",
       "    <tr>\n",
       "      <th>B</th>\n",
       "      <td>5736</td>\n",
       "    </tr>\n",
       "    <tr>\n",
       "      <th rowspan=\"2\" valign=\"top\">recommender_system_test</th>\n",
       "      <th>A</th>\n",
       "      <td>3824</td>\n",
       "    </tr>\n",
       "    <tr>\n",
       "      <th>B</th>\n",
       "      <td>2877</td>\n",
       "    </tr>\n",
       "  </tbody>\n",
       "</table>\n",
       "</div>"
      ],
      "text/plain": [
       "                               user_id\n",
       "ab_test                 group         \n",
       "interface_eu_test       A         5831\n",
       "                        B         5736\n",
       "recommender_system_test A         3824\n",
       "                        B         2877"
      ]
     },
     "execution_count": 21,
     "metadata": {},
     "output_type": "execute_result"
    }
   ],
   "source": [
    "participants.groupby(['ab_test', 'group']).agg({'user_id': 'count'})"
   ]
  },
  {
   "cell_type": "markdown",
   "id": "2d9dd834",
   "metadata": {},
   "source": [
    "Выделим в отдельный датасет пользователей, принявших участие в исследуемом тесте (recommender_system_test) и укажем для каждого из них регион на основе данных из датасета new_users."
   ]
  },
  {
   "cell_type": "code",
   "execution_count": 22,
   "id": "7d96fabe",
   "metadata": {},
   "outputs": [],
   "source": [
    "recom_test = participants.query('ab_test == \"recommender_system_test\"')"
   ]
  },
  {
   "cell_type": "markdown",
   "id": "3cb0be41",
   "metadata": {},
   "source": [
    "Согласно ТЗ ожидаемое количество участников теста составляет 6000. Проверим это."
   ]
  },
  {
   "cell_type": "code",
   "execution_count": 23,
   "id": "05529ede",
   "metadata": {},
   "outputs": [
    {
     "name": "stdout",
     "output_type": "stream",
     "text": [
      "Всего уникальных пользователей, принявших участие в рассматриваемом тесте: 6701\n"
     ]
    }
   ],
   "source": [
    "print('Всего уникальных пользователей, принявших участие в рассматриваемом тесте:', recom_test['user_id'].nunique())"
   ]
  },
  {
   "cell_type": "markdown",
   "id": "e35e304d",
   "metadata": {},
   "source": [
    "Дополним данные о пользователях информацией о регионе и девайсе."
   ]
  },
  {
   "cell_type": "code",
   "execution_count": 24,
   "id": "61ed629a",
   "metadata": {},
   "outputs": [],
   "source": [
    "recom_test = recom_test.merge(new_users, on='user_id', how='inner')"
   ]
  },
  {
   "cell_type": "markdown",
   "id": "3c96370e",
   "metadata": {},
   "source": [
    "Проверим, что не потеряли пользователей при объединении. Далее посмотрим из какиз регионов участники теста (по ТЗ должны быть только из Европы) и проверим на соответствие ТЗ долю участников из Европы."
   ]
  },
  {
   "cell_type": "code",
   "execution_count": 25,
   "id": "f01ad791",
   "metadata": {},
   "outputs": [
    {
     "data": {
      "text/plain": [
       "6701"
      ]
     },
     "execution_count": 25,
     "metadata": {},
     "output_type": "execute_result"
    }
   ],
   "source": [
    "len(recom_test)"
   ]
  },
  {
   "cell_type": "code",
   "execution_count": 26,
   "id": "67ce8c79",
   "metadata": {},
   "outputs": [
    {
     "data": {
      "text/plain": [
       "array(['EU', 'N.America', 'CIS', 'APAC'], dtype=object)"
      ]
     },
     "execution_count": 26,
     "metadata": {},
     "output_type": "execute_result"
    }
   ],
   "source": [
    "recom_test['region'].unique()"
   ]
  },
  {
   "cell_type": "code",
   "execution_count": 27,
   "id": "58a354f1",
   "metadata": {},
   "outputs": [],
   "source": [
    "recom_test = recom_test.query('region == \"EU\"')"
   ]
  },
  {
   "cell_type": "code",
   "execution_count": 28,
   "id": "65ecc2b3",
   "metadata": {},
   "outputs": [
    {
     "name": "stdout",
     "output_type": "stream",
     "text": [
      "Количество участников теста (только из Европы) =  6351\n"
     ]
    }
   ],
   "source": [
    "print('Количество участников теста (только из Европы) = ', recom_test['user_id'].nunique())"
   ]
  },
  {
   "cell_type": "code",
   "execution_count": 29,
   "id": "97c45add",
   "metadata": {
    "scrolled": true
   },
   "outputs": [
    {
     "name": "stdout",
     "output_type": "stream",
     "text": [
      "Доля новых зарегистрировавшихся пользователей из Европы, принявших участие в нашем А/Б тесте = 15.0 %\n"
     ]
    }
   ],
   "source": [
    "print('Доля новых зарегистрировавшихся пользователей из Европы, принявших участие в нашем А/Б тесте =',\n",
    "      round(100*len(recom_test)/len(new_users.query('region == \"EU\"')), 2),\n",
    "      '%')"
   ]
  },
  {
   "cell_type": "markdown",
   "id": "0e86abca",
   "metadata": {},
   "source": [
    "#### Пересечения по тестам\n",
    "Проверим пересечение участников по тестам и группам."
   ]
  },
  {
   "cell_type": "code",
   "execution_count": 30,
   "id": "8754c9c1",
   "metadata": {},
   "outputs": [
    {
     "name": "stdout",
     "output_type": "stream",
     "text": [
      "Количество пользователей, ставших участниками сразу двух А/Б тестов = 1602\n"
     ]
    }
   ],
   "source": [
    "print('Количество пользователей, ставших участниками сразу двух А/Б тестов =', \n",
    "      len(participants.groupby('user_id').agg({'ab_test': 'nunique'}).query('ab_test > 1'))\n",
    "     )"
   ]
  },
  {
   "cell_type": "code",
   "execution_count": 31,
   "id": "8ce3d8aa",
   "metadata": {},
   "outputs": [
    {
     "name": "stdout",
     "output_type": "stream",
     "text": [
      "Доля пользователей из другого теста, попавшего в участники рассматриваемого теста =  25.2 %\n"
     ]
    }
   ],
   "source": [
    "print('Доля пользователей из другого теста, попавшего в участники рассматриваемого теста = ', round(\n",
    "    100*len(participants.groupby('user_id').agg({'ab_test': 'nunique'}).query('ab_test > 1'))/recom_test['user_id'].nunique(),\n",
    "    1), '%')"
   ]
  },
  {
   "cell_type": "markdown",
   "id": "11d0a773",
   "metadata": {},
   "source": [
    "Почти четверть участников нашего теста параллельно приняла участие и в конкурирующем тесте, что могло исказить результаты. Однако это слишком большое количество пользователей, если их просто не учитывать, то мошность теста будет уменьшена (вырастет вероятность ошибки второго рода). Чтобы избежать возможности ошибки в результатах удалять этих пользователей не будем."
   ]
  },
  {
   "cell_type": "markdown",
   "id": "fde1bf6a",
   "metadata": {},
   "source": [
    "Посмотрим как пользователи из конкурирующего теста распределились между группами анализируемого теста. Для этого выделим id участников группы А и группы Б конкурирующего теста в отдельные датасеты."
   ]
  },
  {
   "cell_type": "code",
   "execution_count": 32,
   "id": "f9aa5c82",
   "metadata": {},
   "outputs": [],
   "source": [
    "interface_A = participants.query('ab_test == \"interface_eu_test\" and group == \"A\"')['user_id']\n",
    "interface_B = participants.query('ab_test == \"interface_eu_test\" and group == \"B\"')['user_id']"
   ]
  },
  {
   "cell_type": "code",
   "execution_count": 33,
   "id": "b7b9c6f8",
   "metadata": {},
   "outputs": [
    {
     "name": "stdout",
     "output_type": "stream",
     "text": [
      "Распределение участников группы А конкурирующего теста по группам нашего теста:\n"
     ]
    },
    {
     "data": {
      "text/html": [
       "<div>\n",
       "<style scoped>\n",
       "    .dataframe tbody tr th:only-of-type {\n",
       "        vertical-align: middle;\n",
       "    }\n",
       "\n",
       "    .dataframe tbody tr th {\n",
       "        vertical-align: top;\n",
       "    }\n",
       "\n",
       "    .dataframe thead th {\n",
       "        text-align: right;\n",
       "    }\n",
       "</style>\n",
       "<table border=\"1\" class=\"dataframe\">\n",
       "  <thead>\n",
       "    <tr style=\"text-align: right;\">\n",
       "      <th></th>\n",
       "      <th>users</th>\n",
       "    </tr>\n",
       "    <tr>\n",
       "      <th>group</th>\n",
       "      <th></th>\n",
       "    </tr>\n",
       "  </thead>\n",
       "  <tbody>\n",
       "    <tr>\n",
       "      <th>A</th>\n",
       "      <td>482</td>\n",
       "    </tr>\n",
       "    <tr>\n",
       "      <th>B</th>\n",
       "      <td>337</td>\n",
       "    </tr>\n",
       "  </tbody>\n",
       "</table>\n",
       "</div>"
      ],
      "text/plain": [
       "       users\n",
       "group       \n",
       "A        482\n",
       "B        337"
      ]
     },
     "execution_count": 33,
     "metadata": {},
     "output_type": "execute_result"
    }
   ],
   "source": [
    "print('Распределение участников группы А конкурирующего теста по группам нашего теста:')\n",
    "recom_test[recom_test['user_id'].isin(interface_A)].groupby('group').agg(users=('user_id', 'count'))"
   ]
  },
  {
   "cell_type": "markdown",
   "id": "685de8a7",
   "metadata": {},
   "source": [
    "Группа А - это контрольная группа, т.е. пользователи группы А конкурирующего теста пользовались базовой версией приложения (без каких-либо изменений), поэтому они не искажают результаты нашего теста и могут считаться полноценными его участниками."
   ]
  },
  {
   "cell_type": "code",
   "execution_count": 34,
   "id": "a62b2301",
   "metadata": {},
   "outputs": [
    {
     "name": "stdout",
     "output_type": "stream",
     "text": [
      "Распределение участников группы Б конкурирующего теста по группам нашего теста:\n"
     ]
    },
    {
     "data": {
      "text/html": [
       "<div>\n",
       "<style scoped>\n",
       "    .dataframe tbody tr th:only-of-type {\n",
       "        vertical-align: middle;\n",
       "    }\n",
       "\n",
       "    .dataframe tbody tr th {\n",
       "        vertical-align: top;\n",
       "    }\n",
       "\n",
       "    .dataframe thead th {\n",
       "        text-align: right;\n",
       "    }\n",
       "</style>\n",
       "<table border=\"1\" class=\"dataframe\">\n",
       "  <thead>\n",
       "    <tr style=\"text-align: right;\">\n",
       "      <th></th>\n",
       "      <th>users</th>\n",
       "    </tr>\n",
       "    <tr>\n",
       "      <th>group</th>\n",
       "      <th></th>\n",
       "    </tr>\n",
       "  </thead>\n",
       "  <tbody>\n",
       "    <tr>\n",
       "      <th>A</th>\n",
       "      <td>439</td>\n",
       "    </tr>\n",
       "    <tr>\n",
       "      <th>B</th>\n",
       "      <td>344</td>\n",
       "    </tr>\n",
       "  </tbody>\n",
       "</table>\n",
       "</div>"
      ],
      "text/plain": [
       "       users\n",
       "group       \n",
       "A        439\n",
       "B        344"
      ]
     },
     "execution_count": 34,
     "metadata": {},
     "output_type": "execute_result"
    }
   ],
   "source": [
    "print('Распределение участников группы Б конкурирующего теста по группам нашего теста:')\n",
    "recom_test[recom_test['user_id'].isin(interface_B)].groupby('group').agg(users=('user_id', 'count'))"
   ]
  },
  {
   "cell_type": "markdown",
   "id": "610f2319",
   "metadata": {},
   "source": [
    "Участники группы Б конкурирующего теста взаимодействовали с измененной версией приложения, т.е. на их поведение оказывал влияние конкурирующий тест, что в свою очередь искажает результаты рассматриваемого теста. Однако, просто удалив их нашего теста, мы потеряем почти 800 пользователей, что снизит мощность нашего теста и увеличит вероятность возникновения ошибок. Поэтому можно предположить, что если участники группы Б другого теста распределились равномерно между группами нашего теста, то их влияние на поведение групп в целом тоже было равномерным. \n",
    "\n",
    "Проверим это через проверку гипотезу о равенстве долей. Для этого сформируем два набора: кол-во участников из группы Б в группах нашего теста и кол-во всех участников в каждой из групп нашего теста.\n",
    "\n",
    "- H0: Доли участников группы Б другого теста в группах нашего теста НЕ имеют статистически значимой разницы (т.е. участники распределены равномерно)\n",
    "- H1: Доли имеют статистически значимые различий"
   ]
  },
  {
   "cell_type": "code",
   "execution_count": 35,
   "id": "95cb0ceb",
   "metadata": {},
   "outputs": [],
   "source": [
    "#участники из группы Б другого теста с разделением по группам нашего теста\n",
    "success = np.array(\n",
    "    recom_test[recom_test['user_id'].isin(interface_B)]\n",
    "    .groupby('group')\n",
    "    .agg(users=('user_id', 'count'))\n",
    "    ['users'])\n",
    "nobs = np.array(recom_test.groupby('group').agg(users=('user_id', 'count'))['users']) #всего юзеров по группам нашего теста"
   ]
  },
  {
   "cell_type": "code",
   "execution_count": 36,
   "id": "41c187e7",
   "metadata": {},
   "outputs": [
    {
     "name": "stdout",
     "output_type": "stream",
     "text": [
      "p-значение:  0.4861791801372526\n",
      "Не получилось отвергнуть нулевую гипотезу, нет оснований считать доли разными\n"
     ]
    }
   ],
   "source": [
    "alpha = .05\n",
    "z_stat, p_value = proportions_ztest(success, nobs)\n",
    "print('p-значение: ', p_value)\n",
    "\n",
    "if p_value < alpha:\n",
    "    print('Отвергаем нулевую гипотезу: между долями есть значимая разница')\n",
    "else:\n",
    "    print('Не получилось отвергнуть нулевую гипотезу, нет оснований считать доли разными')"
   ]
  },
  {
   "cell_type": "markdown",
   "id": "83b8b698",
   "metadata": {},
   "source": [
    "Участники группы Б второго теста распределились в наших группах равномерно, т.е. их влияние на каждую из наших групп одинаково, поэтому не будем удалять их из анализа ради сохранение мощности теста, но помним про их влияние."
   ]
  },
  {
   "cell_type": "markdown",
   "id": "83a8a7ce",
   "metadata": {},
   "source": [
    "Также проверим, нет ли пересечений между группами нашего теста."
   ]
  },
  {
   "cell_type": "code",
   "execution_count": 37,
   "id": "83d16e4b",
   "metadata": {},
   "outputs": [
    {
     "name": "stdout",
     "output_type": "stream",
     "text": [
      "Количество пользователей рассматриваемого теста, ошибочно попавших в обе группы = 0\n"
     ]
    }
   ],
   "source": [
    "print('Количество пользователей рассматриваемого теста, ошибочно попавших в обе группы =',\n",
    "      len(recom_test.groupby('user_id').agg({'group' : 'nunique'}).query('group > 1'))\n",
    "     )"
   ]
  },
  {
   "cell_type": "markdown",
   "id": "55e5c971",
   "metadata": {},
   "source": [
    "#### Действия пользователей и лайфтайм\n",
    "Теперь добавим к участникам нашего теста информацию о совершенных ими действиях."
   ]
  },
  {
   "cell_type": "code",
   "execution_count": 38,
   "id": "78c2e609",
   "metadata": {},
   "outputs": [],
   "source": [
    "recom_test = recom_test.merge(events, on='user_id', how='left')"
   ]
  },
  {
   "cell_type": "code",
   "execution_count": 39,
   "id": "43c5dd82",
   "metadata": {},
   "outputs": [
    {
     "data": {
      "text/html": [
       "<div>\n",
       "<style scoped>\n",
       "    .dataframe tbody tr th:only-of-type {\n",
       "        vertical-align: middle;\n",
       "    }\n",
       "\n",
       "    .dataframe tbody tr th {\n",
       "        vertical-align: top;\n",
       "    }\n",
       "\n",
       "    .dataframe thead th {\n",
       "        text-align: right;\n",
       "    }\n",
       "</style>\n",
       "<table border=\"1\" class=\"dataframe\">\n",
       "  <thead>\n",
       "    <tr style=\"text-align: right;\">\n",
       "      <th></th>\n",
       "      <th>user_id</th>\n",
       "      <th>group</th>\n",
       "      <th>ab_test</th>\n",
       "      <th>first_date</th>\n",
       "      <th>region</th>\n",
       "      <th>device</th>\n",
       "      <th>event_dt</th>\n",
       "      <th>event_name</th>\n",
       "      <th>details</th>\n",
       "    </tr>\n",
       "  </thead>\n",
       "  <tbody>\n",
       "    <tr>\n",
       "      <th>0</th>\n",
       "      <td>D1ABA3E2887B6A73</td>\n",
       "      <td>A</td>\n",
       "      <td>recommender_system_test</td>\n",
       "      <td>2020-12-07</td>\n",
       "      <td>EU</td>\n",
       "      <td>PC</td>\n",
       "      <td>2020-12-07 14:43:27</td>\n",
       "      <td>purchase</td>\n",
       "      <td>99.99</td>\n",
       "    </tr>\n",
       "    <tr>\n",
       "      <th>1</th>\n",
       "      <td>D1ABA3E2887B6A73</td>\n",
       "      <td>A</td>\n",
       "      <td>recommender_system_test</td>\n",
       "      <td>2020-12-07</td>\n",
       "      <td>EU</td>\n",
       "      <td>PC</td>\n",
       "      <td>2020-12-25 00:04:56</td>\n",
       "      <td>purchase</td>\n",
       "      <td>4.99</td>\n",
       "    </tr>\n",
       "    <tr>\n",
       "      <th>2</th>\n",
       "      <td>D1ABA3E2887B6A73</td>\n",
       "      <td>A</td>\n",
       "      <td>recommender_system_test</td>\n",
       "      <td>2020-12-07</td>\n",
       "      <td>EU</td>\n",
       "      <td>PC</td>\n",
       "      <td>2020-12-07 14:43:29</td>\n",
       "      <td>product_cart</td>\n",
       "      <td>NaN</td>\n",
       "    </tr>\n",
       "    <tr>\n",
       "      <th>3</th>\n",
       "      <td>D1ABA3E2887B6A73</td>\n",
       "      <td>A</td>\n",
       "      <td>recommender_system_test</td>\n",
       "      <td>2020-12-07</td>\n",
       "      <td>EU</td>\n",
       "      <td>PC</td>\n",
       "      <td>2020-12-25 00:04:57</td>\n",
       "      <td>product_cart</td>\n",
       "      <td>NaN</td>\n",
       "    </tr>\n",
       "    <tr>\n",
       "      <th>4</th>\n",
       "      <td>D1ABA3E2887B6A73</td>\n",
       "      <td>A</td>\n",
       "      <td>recommender_system_test</td>\n",
       "      <td>2020-12-07</td>\n",
       "      <td>EU</td>\n",
       "      <td>PC</td>\n",
       "      <td>2020-12-07 14:43:27</td>\n",
       "      <td>product_page</td>\n",
       "      <td>NaN</td>\n",
       "    </tr>\n",
       "  </tbody>\n",
       "</table>\n",
       "</div>"
      ],
      "text/plain": [
       "            user_id group                  ab_test first_date region device  \\\n",
       "0  D1ABA3E2887B6A73     A  recommender_system_test 2020-12-07     EU     PC   \n",
       "1  D1ABA3E2887B6A73     A  recommender_system_test 2020-12-07     EU     PC   \n",
       "2  D1ABA3E2887B6A73     A  recommender_system_test 2020-12-07     EU     PC   \n",
       "3  D1ABA3E2887B6A73     A  recommender_system_test 2020-12-07     EU     PC   \n",
       "4  D1ABA3E2887B6A73     A  recommender_system_test 2020-12-07     EU     PC   \n",
       "\n",
       "             event_dt    event_name  details  \n",
       "0 2020-12-07 14:43:27      purchase    99.99  \n",
       "1 2020-12-25 00:04:56      purchase     4.99  \n",
       "2 2020-12-07 14:43:29  product_cart      NaN  \n",
       "3 2020-12-25 00:04:57  product_cart      NaN  \n",
       "4 2020-12-07 14:43:27  product_page      NaN  "
      ]
     },
     "execution_count": 39,
     "metadata": {},
     "output_type": "execute_result"
    }
   ],
   "source": [
    "recom_test.head()"
   ]
  },
  {
   "cell_type": "markdown",
   "id": "f777c1e8",
   "metadata": {},
   "source": [
    "Проверим не потеряли ли мы участников нашего теста."
   ]
  },
  {
   "cell_type": "code",
   "execution_count": 40,
   "id": "653cf301",
   "metadata": {},
   "outputs": [
    {
     "data": {
      "text/plain": [
       "6351"
      ]
     },
     "execution_count": 40,
     "metadata": {},
     "output_type": "execute_result"
    }
   ],
   "source": [
    "recom_test['user_id'].nunique()"
   ]
  },
  {
   "cell_type": "markdown",
   "id": "efe5d914",
   "metadata": {},
   "source": [
    "Все на месте."
   ]
  },
  {
   "cell_type": "code",
   "execution_count": 41,
   "id": "8cca952b",
   "metadata": {},
   "outputs": [
    {
     "name": "stdout",
     "output_type": "stream",
     "text": [
      "<class 'pandas.core.frame.DataFrame'>\n",
      "Int64Index: 26290 entries, 0 to 26289\n",
      "Data columns (total 9 columns):\n",
      " #   Column      Non-Null Count  Dtype         \n",
      "---  ------      --------------  -----         \n",
      " 0   user_id     26290 non-null  object        \n",
      " 1   group       26290 non-null  object        \n",
      " 2   ab_test     26290 non-null  object        \n",
      " 3   first_date  26290 non-null  datetime64[ns]\n",
      " 4   region      26290 non-null  object        \n",
      " 5   device      26290 non-null  object        \n",
      " 6   event_dt    23420 non-null  datetime64[ns]\n",
      " 7   event_name  23420 non-null  object        \n",
      " 8   details     3196 non-null   float64       \n",
      "dtypes: datetime64[ns](2), float64(1), object(6)\n",
      "memory usage: 2.0+ MB\n"
     ]
    }
   ],
   "source": [
    "recom_test.info()"
   ]
  },
  {
   "cell_type": "markdown",
   "id": "2de6d81e",
   "metadata": {},
   "source": [
    "В добавленных столбцах с информацией о совершенных действиях появились пропуски - это значит, что некоторые пользователи после регистрации не совершили никаких других действий. \n",
    "\n",
    "Т.к. в тесте оценивают изменение конверсии в просмотр карточек товаров, просмотры корзины и покупки, то пользователей, которые кроме регистрации ничего не совершали можно удалить."
   ]
  },
  {
   "cell_type": "code",
   "execution_count": 42,
   "id": "e95ed8d3",
   "metadata": {},
   "outputs": [
    {
     "data": {
      "text/html": [
       "<div>\n",
       "<style scoped>\n",
       "    .dataframe tbody tr th:only-of-type {\n",
       "        vertical-align: middle;\n",
       "    }\n",
       "\n",
       "    .dataframe tbody tr th {\n",
       "        vertical-align: top;\n",
       "    }\n",
       "\n",
       "    .dataframe thead th {\n",
       "        text-align: right;\n",
       "    }\n",
       "</style>\n",
       "<table border=\"1\" class=\"dataframe\">\n",
       "  <thead>\n",
       "    <tr style=\"text-align: right;\">\n",
       "      <th></th>\n",
       "      <th>user_id</th>\n",
       "    </tr>\n",
       "    <tr>\n",
       "      <th>group</th>\n",
       "      <th></th>\n",
       "    </tr>\n",
       "  </thead>\n",
       "  <tbody>\n",
       "    <tr>\n",
       "      <th>A</th>\n",
       "      <td>3634</td>\n",
       "    </tr>\n",
       "    <tr>\n",
       "      <th>B</th>\n",
       "      <td>2717</td>\n",
       "    </tr>\n",
       "  </tbody>\n",
       "</table>\n",
       "</div>"
      ],
      "text/plain": [
       "       user_id\n",
       "group         \n",
       "A         3634\n",
       "B         2717"
      ]
     },
     "execution_count": 42,
     "metadata": {},
     "output_type": "execute_result"
    }
   ],
   "source": [
    "recom_test.groupby('group').agg({'user_id': 'nunique'})"
   ]
  },
  {
   "cell_type": "code",
   "execution_count": 43,
   "id": "ece422e6",
   "metadata": {},
   "outputs": [
    {
     "name": "stdout",
     "output_type": "stream",
     "text": [
      "Количество неактивных пользователей, попавших в участники теста =  2870\n",
      "Доля неактивных пользователей от всех участников теста =  45.19 %\n"
     ]
    }
   ],
   "source": [
    "print('Количество неактивных пользователей, попавших в участники теста = ', \n",
    "      recom_test[recom_test['event_dt'].isna()]['user_id'].nunique())\n",
    "print('Доля неактивных пользователей от всех участников теста = ',\n",
    "           round(\n",
    "               100*recom_test[recom_test['event_dt'].isna()]['user_id'].nunique()/recom_test['user_id'].nunique(), 2),\n",
    "     '%')"
   ]
  },
  {
   "cell_type": "code",
   "execution_count": 44,
   "id": "48771720",
   "metadata": {},
   "outputs": [
    {
     "name": "stdout",
     "output_type": "stream",
     "text": [
      "Количество неактивных пользователей по группам: group\n",
      "A    1030\n",
      "B    1840\n",
      "Name: user_id, dtype: int64\n"
     ]
    }
   ],
   "source": [
    "print('Количество неактивных пользователей по группам:',\n",
    "recom_test[recom_test['event_dt'].isna()].groupby('group')['user_id'].nunique())"
   ]
  },
  {
   "cell_type": "code",
   "execution_count": 45,
   "id": "41269d4f",
   "metadata": {},
   "outputs": [
    {
     "name": "stdout",
     "output_type": "stream",
     "text": [
      "Доля неактивных пользователей в группе А =  28.3 %\n",
      "Доля неактивных пользователей в группе Б =  67.7 %\n"
     ]
    }
   ],
   "source": [
    "lost = np.array(recom_test[recom_test['event_dt'].isna()].groupby('group')['user_id'].nunique())\n",
    "total = np.array(recom_test.groupby('group')['user_id'].nunique())\n",
    "print('Доля неактивных пользователей в группе А = ', round(100*lost[0]/total[0],1), '%')\n",
    "print('Доля неактивных пользователей в группе Б = ', round(100*lost[1]/total[1],1), '%')"
   ]
  },
  {
   "cell_type": "markdown",
   "id": "ea051f35",
   "metadata": {},
   "source": [
    "Неактивные пользователи составляют почти половину от всех участников теста - по ним нельзя рассчитать изменение конверсии интересующих нас метрик, т.к. они не совершали никаких действий кроме регистрации. Таким образом количество участников тесте не соответствует ожидаемому по ТЗ (6000). Отметим этот факт как недостаток проведенного теста."
   ]
  },
  {
   "cell_type": "code",
   "execution_count": 46,
   "id": "928092c4",
   "metadata": {},
   "outputs": [],
   "source": [
    "recom_test = recom_test.dropna(subset=['event_dt']) #удаляем неактивных пользователей"
   ]
  },
  {
   "cell_type": "markdown",
   "id": "8b0b8367",
   "metadata": {},
   "source": [
    "Добавим колонку с количеством дней после регистрации до совершения каждого из событий"
   ]
  },
  {
   "cell_type": "code",
   "execution_count": 47,
   "id": "8beef35f",
   "metadata": {},
   "outputs": [],
   "source": [
    "recom_test['period'] = recom_test['event_dt'] - recom_test['first_date']"
   ]
  },
  {
   "cell_type": "code",
   "execution_count": 48,
   "id": "2ac2b5c5",
   "metadata": {},
   "outputs": [
    {
     "data": {
      "text/html": [
       "<div>\n",
       "<style scoped>\n",
       "    .dataframe tbody tr th:only-of-type {\n",
       "        vertical-align: middle;\n",
       "    }\n",
       "\n",
       "    .dataframe tbody tr th {\n",
       "        vertical-align: top;\n",
       "    }\n",
       "\n",
       "    .dataframe thead th {\n",
       "        text-align: right;\n",
       "    }\n",
       "</style>\n",
       "<table border=\"1\" class=\"dataframe\">\n",
       "  <thead>\n",
       "    <tr style=\"text-align: right;\">\n",
       "      <th></th>\n",
       "      <th>user_id</th>\n",
       "      <th>group</th>\n",
       "      <th>ab_test</th>\n",
       "      <th>first_date</th>\n",
       "      <th>region</th>\n",
       "      <th>device</th>\n",
       "      <th>event_dt</th>\n",
       "      <th>event_name</th>\n",
       "      <th>details</th>\n",
       "      <th>period</th>\n",
       "    </tr>\n",
       "  </thead>\n",
       "  <tbody>\n",
       "    <tr>\n",
       "      <th>0</th>\n",
       "      <td>D1ABA3E2887B6A73</td>\n",
       "      <td>A</td>\n",
       "      <td>recommender_system_test</td>\n",
       "      <td>2020-12-07</td>\n",
       "      <td>EU</td>\n",
       "      <td>PC</td>\n",
       "      <td>2020-12-07 14:43:27</td>\n",
       "      <td>purchase</td>\n",
       "      <td>99.99</td>\n",
       "      <td>0 days 14:43:27</td>\n",
       "    </tr>\n",
       "    <tr>\n",
       "      <th>1</th>\n",
       "      <td>D1ABA3E2887B6A73</td>\n",
       "      <td>A</td>\n",
       "      <td>recommender_system_test</td>\n",
       "      <td>2020-12-07</td>\n",
       "      <td>EU</td>\n",
       "      <td>PC</td>\n",
       "      <td>2020-12-25 00:04:56</td>\n",
       "      <td>purchase</td>\n",
       "      <td>4.99</td>\n",
       "      <td>18 days 00:04:56</td>\n",
       "    </tr>\n",
       "    <tr>\n",
       "      <th>2</th>\n",
       "      <td>D1ABA3E2887B6A73</td>\n",
       "      <td>A</td>\n",
       "      <td>recommender_system_test</td>\n",
       "      <td>2020-12-07</td>\n",
       "      <td>EU</td>\n",
       "      <td>PC</td>\n",
       "      <td>2020-12-07 14:43:29</td>\n",
       "      <td>product_cart</td>\n",
       "      <td>NaN</td>\n",
       "      <td>0 days 14:43:29</td>\n",
       "    </tr>\n",
       "    <tr>\n",
       "      <th>3</th>\n",
       "      <td>D1ABA3E2887B6A73</td>\n",
       "      <td>A</td>\n",
       "      <td>recommender_system_test</td>\n",
       "      <td>2020-12-07</td>\n",
       "      <td>EU</td>\n",
       "      <td>PC</td>\n",
       "      <td>2020-12-25 00:04:57</td>\n",
       "      <td>product_cart</td>\n",
       "      <td>NaN</td>\n",
       "      <td>18 days 00:04:57</td>\n",
       "    </tr>\n",
       "    <tr>\n",
       "      <th>4</th>\n",
       "      <td>D1ABA3E2887B6A73</td>\n",
       "      <td>A</td>\n",
       "      <td>recommender_system_test</td>\n",
       "      <td>2020-12-07</td>\n",
       "      <td>EU</td>\n",
       "      <td>PC</td>\n",
       "      <td>2020-12-07 14:43:27</td>\n",
       "      <td>product_page</td>\n",
       "      <td>NaN</td>\n",
       "      <td>0 days 14:43:27</td>\n",
       "    </tr>\n",
       "  </tbody>\n",
       "</table>\n",
       "</div>"
      ],
      "text/plain": [
       "            user_id group                  ab_test first_date region device  \\\n",
       "0  D1ABA3E2887B6A73     A  recommender_system_test 2020-12-07     EU     PC   \n",
       "1  D1ABA3E2887B6A73     A  recommender_system_test 2020-12-07     EU     PC   \n",
       "2  D1ABA3E2887B6A73     A  recommender_system_test 2020-12-07     EU     PC   \n",
       "3  D1ABA3E2887B6A73     A  recommender_system_test 2020-12-07     EU     PC   \n",
       "4  D1ABA3E2887B6A73     A  recommender_system_test 2020-12-07     EU     PC   \n",
       "\n",
       "             event_dt    event_name  details           period  \n",
       "0 2020-12-07 14:43:27      purchase    99.99  0 days 14:43:27  \n",
       "1 2020-12-25 00:04:56      purchase     4.99 18 days 00:04:56  \n",
       "2 2020-12-07 14:43:29  product_cart      NaN  0 days 14:43:29  \n",
       "3 2020-12-25 00:04:57  product_cart      NaN 18 days 00:04:57  \n",
       "4 2020-12-07 14:43:27  product_page      NaN  0 days 14:43:27  "
      ]
     },
     "execution_count": 48,
     "metadata": {},
     "output_type": "execute_result"
    }
   ],
   "source": [
    "recom_test.head()"
   ]
  },
  {
   "cell_type": "code",
   "execution_count": 49,
   "id": "fe84da8c",
   "metadata": {},
   "outputs": [
    {
     "data": {
      "text/plain": [
       "Timedelta('0 days 00:00:04')"
      ]
     },
     "metadata": {},
     "output_type": "display_data"
    },
    {
     "data": {
      "text/plain": [
       "Timedelta('23 days 12:42:57')"
      ]
     },
     "execution_count": 49,
     "metadata": {},
     "output_type": "execute_result"
    }
   ],
   "source": [
    "display(recom_test['period'].min())\n",
    "recom_test['period'].max()"
   ]
  },
  {
   "cell_type": "markdown",
   "id": "3d1ca5b5",
   "metadata": {},
   "source": [
    "Согласно ТЗ ожидаемый эффект от нововведений должен быть получен за 14 дней с момента регистрации пользователя, таким образом нас интересуют только те события, которые пользователи совершили в первые 2 недели после регистрации. Более поздние события можно удалять."
   ]
  },
  {
   "cell_type": "code",
   "execution_count": 50,
   "id": "e59da270",
   "metadata": {},
   "outputs": [],
   "source": [
    "recom_test = recom_test[recom_test['period'] <= \"14 days\"]"
   ]
  },
  {
   "cell_type": "code",
   "execution_count": 51,
   "id": "6132e04b",
   "metadata": {},
   "outputs": [
    {
     "data": {
      "text/plain": [
       "Timedelta('0 days 00:00:04')"
      ]
     },
     "metadata": {},
     "output_type": "display_data"
    },
    {
     "data": {
      "text/plain": [
       "Timedelta('13 days 23:52:52')"
      ]
     },
     "execution_count": 51,
     "metadata": {},
     "output_type": "execute_result"
    }
   ],
   "source": [
    "display(recom_test['period'].min())\n",
    "recom_test['period'].max()"
   ]
  },
  {
   "cell_type": "code",
   "execution_count": 52,
   "id": "ee2cb347",
   "metadata": {},
   "outputs": [
    {
     "data": {
      "text/plain": [
       "3481"
      ]
     },
     "execution_count": 52,
     "metadata": {},
     "output_type": "execute_result"
    }
   ],
   "source": [
    "recom_test['user_id'].nunique()"
   ]
  },
  {
   "cell_type": "markdown",
   "id": "e5e27ef4",
   "metadata": {},
   "source": [
    "Посмотрим как распределены пользователи по тестовым группам после удаления неактивных пользователей и событий, совершенных позже 14 дней после регистрации."
   ]
  },
  {
   "cell_type": "code",
   "execution_count": 53,
   "id": "d5d16b6f",
   "metadata": {},
   "outputs": [
    {
     "data": {
      "text/html": [
       "<div>\n",
       "<style scoped>\n",
       "    .dataframe tbody tr th:only-of-type {\n",
       "        vertical-align: middle;\n",
       "    }\n",
       "\n",
       "    .dataframe tbody tr th {\n",
       "        vertical-align: top;\n",
       "    }\n",
       "\n",
       "    .dataframe thead th {\n",
       "        text-align: right;\n",
       "    }\n",
       "</style>\n",
       "<table border=\"1\" class=\"dataframe\">\n",
       "  <thead>\n",
       "    <tr style=\"text-align: right;\">\n",
       "      <th></th>\n",
       "      <th>user_id</th>\n",
       "    </tr>\n",
       "    <tr>\n",
       "      <th>group</th>\n",
       "      <th></th>\n",
       "    </tr>\n",
       "  </thead>\n",
       "  <tbody>\n",
       "    <tr>\n",
       "      <th>A</th>\n",
       "      <td>2604</td>\n",
       "    </tr>\n",
       "    <tr>\n",
       "      <th>B</th>\n",
       "      <td>877</td>\n",
       "    </tr>\n",
       "  </tbody>\n",
       "</table>\n",
       "</div>"
      ],
      "text/plain": [
       "       user_id\n",
       "group         \n",
       "A         2604\n",
       "B          877"
      ]
     },
     "execution_count": 53,
     "metadata": {},
     "output_type": "execute_result"
    }
   ],
   "source": [
    "recom_test.groupby('group').agg({'user_id': 'nunique'})"
   ]
  },
  {
   "cell_type": "markdown",
   "id": "e66ae641",
   "metadata": {},
   "source": [
    "Участники теста по группам распределены неравномерно:"
   ]
  },
  {
   "cell_type": "code",
   "execution_count": 54,
   "id": "c54075af",
   "metadata": {},
   "outputs": [
    {
     "name": "stdout",
     "output_type": "stream",
     "text": [
      "В группе А в 3.0 раз больше участников, чем в группе В\n"
     ]
    }
   ],
   "source": [
    "print('В группе А в', \n",
    "      round(recom_test.query('group == \"A\"')['user_id'].nunique()/recom_test.query('group == \"B\"')['user_id'].nunique(), 1)\n",
    "      ,'раз больше участников, чем в группе В')"
   ]
  },
  {
   "cell_type": "markdown",
   "id": "405794fb",
   "metadata": {},
   "source": [
    "Группы необязательно должны быть равными по размеру, для корректного проведения теста группы просто должны быть достаточно большими. Равный размер групп дает оптимальную длительность теста."
   ]
  },
  {
   "cell_type": "markdown",
   "id": "a20c8639",
   "metadata": {},
   "source": [
    "#### Частота совершения событий по дням\n",
    "Изучим на какой день после регистрации пользователи чаще всего совершают какие-либо действия."
   ]
  },
  {
   "cell_type": "code",
   "execution_count": 55,
   "id": "e958f66b",
   "metadata": {},
   "outputs": [],
   "source": [
    "recom_test['period'] = recom_test['period'].dt.days #округлим период до дней"
   ]
  },
  {
   "cell_type": "code",
   "execution_count": 56,
   "id": "e7824604",
   "metadata": {},
   "outputs": [
    {
     "data": {
      "image/png": "[encoded data removed]",
      "text/plain": [
       "<Figure size 640x480 with 1 Axes>"
      ]
     },
     "metadata": {},
     "output_type": "display_data"
    }
   ],
   "source": [
    "recom_test.pivot_table(index='period', columns='event_name', \n",
    "                       values='user_id', aggfunc='count').plot(grid=True)\n",
    "plt.title('Частота совершения событий пользователями в первые 14 дней после регистрации')\n",
    "plt.xlabel('День после регистрации пользователя')\n",
    "plt.ylabel('Количество событий в день')\n",
    "plt.legend(title=('событие'));"
   ]
  },
  {
   "cell_type": "markdown",
   "id": "f9c8a9bc",
   "metadata": {},
   "source": [
    "Для каждого из событий наиболее количество совершенных действий приходится на первые сутки после регистрации. Далее количество событий постепенно уменьшается. Самым частым действием является login, на втором месте просмотр страницы товара и далее с практически одинаковой частотой идут просмотр корзины и покупка. То, что количество просмотров корзины примерно одинаково с количеством покупок может означать, что покупку можно совершить минуя этап просмотра корзины (в первый день количество покупок даже немного превосходит количество просмотров корзины."
   ]
  },
  {
   "cell_type": "markdown",
   "id": "6b72f72a",
   "metadata": {},
   "source": [
    "#### Пересечения с маркетинговыми мероприятими\n",
    "Проверим проводились ли одновременно с тестом какие-либо маркетинговые мероприятия (с учетом региона)."
   ]
  },
  {
   "cell_type": "code",
   "execution_count": 57,
   "id": "dd913fe2",
   "metadata": {},
   "outputs": [
    {
     "data": {
      "text/html": [
       "<div>\n",
       "<style scoped>\n",
       "    .dataframe tbody tr th:only-of-type {\n",
       "        vertical-align: middle;\n",
       "    }\n",
       "\n",
       "    .dataframe tbody tr th {\n",
       "        vertical-align: top;\n",
       "    }\n",
       "\n",
       "    .dataframe thead th {\n",
       "        text-align: right;\n",
       "    }\n",
       "</style>\n",
       "<table border=\"1\" class=\"dataframe\">\n",
       "  <thead>\n",
       "    <tr style=\"text-align: right;\">\n",
       "      <th></th>\n",
       "      <th>name</th>\n",
       "      <th>regions</th>\n",
       "      <th>start_dt</th>\n",
       "      <th>finish_dt</th>\n",
       "    </tr>\n",
       "  </thead>\n",
       "  <tbody>\n",
       "    <tr>\n",
       "      <th>0</th>\n",
       "      <td>Christmas&amp;New Year Promo</td>\n",
       "      <td>EU, N.America</td>\n",
       "      <td>2020-12-25</td>\n",
       "      <td>2021-01-03</td>\n",
       "    </tr>\n",
       "    <tr>\n",
       "      <th>1</th>\n",
       "      <td>St. Valentine's Day Giveaway</td>\n",
       "      <td>EU, CIS, APAC, N.America</td>\n",
       "      <td>2020-02-14</td>\n",
       "      <td>2020-02-16</td>\n",
       "    </tr>\n",
       "    <tr>\n",
       "      <th>2</th>\n",
       "      <td>St. Patric's Day Promo</td>\n",
       "      <td>EU, N.America</td>\n",
       "      <td>2020-03-17</td>\n",
       "      <td>2020-03-19</td>\n",
       "    </tr>\n",
       "    <tr>\n",
       "      <th>3</th>\n",
       "      <td>Easter Promo</td>\n",
       "      <td>EU, CIS, APAC, N.America</td>\n",
       "      <td>2020-04-12</td>\n",
       "      <td>2020-04-19</td>\n",
       "    </tr>\n",
       "    <tr>\n",
       "      <th>4</th>\n",
       "      <td>4th of July Promo</td>\n",
       "      <td>N.America</td>\n",
       "      <td>2020-07-04</td>\n",
       "      <td>2020-07-11</td>\n",
       "    </tr>\n",
       "  </tbody>\n",
       "</table>\n",
       "</div>"
      ],
      "text/plain": [
       "                           name                   regions   start_dt  \\\n",
       "0      Christmas&New Year Promo             EU, N.America 2020-12-25   \n",
       "1  St. Valentine's Day Giveaway  EU, CIS, APAC, N.America 2020-02-14   \n",
       "2        St. Patric's Day Promo             EU, N.America 2020-03-17   \n",
       "3                  Easter Promo  EU, CIS, APAC, N.America 2020-04-12   \n",
       "4             4th of July Promo                 N.America 2020-07-04   \n",
       "\n",
       "   finish_dt  \n",
       "0 2021-01-03  \n",
       "1 2020-02-16  \n",
       "2 2020-03-19  \n",
       "3 2020-04-19  \n",
       "4 2020-07-11  "
      ]
     },
     "execution_count": 57,
     "metadata": {},
     "output_type": "execute_result"
    }
   ],
   "source": [
    "marketing_events.head()"
   ]
  },
  {
   "cell_type": "code",
   "execution_count": 58,
   "id": "b276f3e0",
   "metadata": {},
   "outputs": [],
   "source": [
    "test_start = dt.date(2020, 12, 7) #дата запуска теста\n",
    "test_finish = dt.date(2021, 1, 4) #дата окончания теста"
   ]
  },
  {
   "cell_type": "markdown",
   "id": "c8aeda80",
   "metadata": {},
   "source": [
    "Отберем события, которые пересекаются с периодом проведения теста."
   ]
  },
  {
   "cell_type": "code",
   "execution_count": 59,
   "id": "6db06bc3",
   "metadata": {},
   "outputs": [
    {
     "data": {
      "text/html": [
       "<div>\n",
       "<style scoped>\n",
       "    .dataframe tbody tr th:only-of-type {\n",
       "        vertical-align: middle;\n",
       "    }\n",
       "\n",
       "    .dataframe tbody tr th {\n",
       "        vertical-align: top;\n",
       "    }\n",
       "\n",
       "    .dataframe thead th {\n",
       "        text-align: right;\n",
       "    }\n",
       "</style>\n",
       "<table border=\"1\" class=\"dataframe\">\n",
       "  <thead>\n",
       "    <tr style=\"text-align: right;\">\n",
       "      <th></th>\n",
       "      <th>name</th>\n",
       "      <th>regions</th>\n",
       "      <th>start_dt</th>\n",
       "      <th>finish_dt</th>\n",
       "    </tr>\n",
       "  </thead>\n",
       "  <tbody>\n",
       "    <tr>\n",
       "      <th>0</th>\n",
       "      <td>Christmas&amp;New Year Promo</td>\n",
       "      <td>EU, N.America</td>\n",
       "      <td>2020-12-25</td>\n",
       "      <td>2021-01-03</td>\n",
       "    </tr>\n",
       "    <tr>\n",
       "      <th>10</th>\n",
       "      <td>CIS New Year Gift Lottery</td>\n",
       "      <td>CIS</td>\n",
       "      <td>2020-12-30</td>\n",
       "      <td>2021-01-07</td>\n",
       "    </tr>\n",
       "  </tbody>\n",
       "</table>\n",
       "</div>"
      ],
      "text/plain": [
       "                         name        regions   start_dt  finish_dt\n",
       "0    Christmas&New Year Promo  EU, N.America 2020-12-25 2021-01-03\n",
       "10  CIS New Year Gift Lottery            CIS 2020-12-30 2021-01-07"
      ]
     },
     "execution_count": 59,
     "metadata": {},
     "output_type": "execute_result"
    }
   ],
   "source": [
    "marketing_events.query('start_dt <= @test_finish and finish_dt >= @test_start')"
   ]
  },
  {
   "cell_type": "markdown",
   "id": "c4a18181",
   "metadata": {},
   "source": [
    "В даты проведения теста было запущено два маркетинговых мероприятия. Т.к. участники нашего теста из Европы, то влияние на них могло оказать только то мероприятие, которое проходило в Европе. Такое мероприятие всего одно - это `Christmas&New Year Promo`. При этом влияние маркетингового мероприятия будет одинаково для участников обеих тестовых групп. Однако если влияние было слишком сильным, то это может исказить результаты теста, поэтому посмотрим как распределена частота совершения действий пользователями по дням."
   ]
  },
  {
   "cell_type": "code",
   "execution_count": 60,
   "id": "90970f1e",
   "metadata": {},
   "outputs": [],
   "source": [
    "recom_test['event_date'] = recom_test['event_dt'].dt.date"
   ]
  },
  {
   "cell_type": "code",
   "execution_count": 61,
   "id": "5c3aaa96",
   "metadata": {
    "scrolled": false
   },
   "outputs": [
    {
     "data": {
      "image/png": "[encoded data removed]",
      "text/plain": [
       "<Figure size 640x480 with 1 Axes>"
      ]
     },
     "metadata": {},
     "output_type": "display_data"
    }
   ],
   "source": [
    "recom_test.pivot_table(index='event_date', columns='event_name', \n",
    "                       values='user_id', aggfunc='count').plot(grid=True)\n",
    "plt.title('Частота совершаемых пользователями событий по календарным дням')\n",
    "plt.xlabel('Дата')\n",
    "plt.xticks(rotation=30)\n",
    "plt.ylabel('Количество событий')\n",
    "plt.legend(title='событие');"
   ]
  },
  {
   "cell_type": "markdown",
   "id": "43331902",
   "metadata": {},
   "source": [
    "14 и 21 декабря наблюдается скачок по всем типам событий, но маркетинговые акции начинаются позже. Значит маркетинговая акция не оказала значительного влияния на проведение теста.\n",
    "\n",
    "Помимо маркетинговых мероприятий на проведение теста и результаты могли повлиять сезонные событий. В нашем случае тест проводится перед НГ, когда все готовятся к празднику, покупают подарки и характерный набор продуктов, т.е. поведение покупателей обеих тестовых групп искажено, что также в целом негативно влияет на сам тест."
   ]
  },
  {
   "cell_type": "markdown",
   "id": "fe783f50",
   "metadata": {},
   "source": [
    "## Исследовательский анализ данных:\n",
    "\n",
    "### Рапсределение количества событий\n",
    "Для начала посмотрим распределение количества регистраций участников каждой тестовой группы по дням."
   ]
  },
  {
   "cell_type": "code",
   "execution_count": 62,
   "id": "999a0fdd",
   "metadata": {},
   "outputs": [
    {
     "data": {
      "image/png": "[encoded data removed]",
      "text/plain": [
       "<Figure size 640x480 with 1 Axes>"
      ]
     },
     "metadata": {},
     "output_type": "display_data"
    }
   ],
   "source": [
    "sns.lineplot(data=recom_test.groupby(['group', 'first_date'], as_index=False).agg({'user_id': 'nunique'}),\n",
    "            x='first_date', y='user_id', hue='group', palette=['purple', 'darkorange'])\n",
    "plt.title('Количество регистраций пользователей по дням в ращбивке по тестовым группам')\n",
    "plt.legend(title='Группа теста')\n",
    "plt.ylabel('Количество регистраций')\n",
    "plt.xlabel('Дата')\n",
    "plt.xticks(rotation=30);"
   ]
  },
  {
   "cell_type": "markdown",
   "id": "b8935dcb",
   "metadata": {},
   "source": [
    "В первую неделю количество регистраций для каждой группы примерно одного порядка, однако 14 декабря наблюдается резкий скачок регистраций участников в контрольную группу А (хотя в эти даты нет маркетинговых мероприятий, которые могли бы исказить приток пользователей). От ~50 регистраций в день число новых пользователей резко вырочло до почти 400 регистраций в день, после чего снова упало до 170. Для группы В таких резких изменений не наблюдается. В предпоследний день набора участников в тестовые группы количество регистраций для обеих групп снова начинало расти, для группы А опять более резко, чем для группы В."
   ]
  },
  {
   "cell_type": "markdown",
   "id": "3bdbf775",
   "metadata": {},
   "source": [
    "Теперь изучим как менялось число событий по дням для каждой из групп."
   ]
  },
  {
   "cell_type": "code",
   "execution_count": 63,
   "id": "d316d221",
   "metadata": {
    "scrolled": false
   },
   "outputs": [
    {
     "data": {
      "image/png": "[encoded data removed]",
      "text/plain": [
       "<Figure size 500x400 with 1 Axes>"
      ]
     },
     "metadata": {},
     "output_type": "display_data"
    },
    {
     "data": {
      "image/png": "[encoded data removed]",
      "text/plain": [
       "<Figure size 500x400 with 1 Axes>"
      ]
     },
     "metadata": {},
     "output_type": "display_data"
    },
    {
     "data": {
      "image/png": "[encoded data removed]",
      "text/plain": [
       "<Figure size 500x400 with 1 Axes>"
      ]
     },
     "metadata": {},
     "output_type": "display_data"
    },
    {
     "data": {
      "image/png": "[encoded data removed]",
      "text/plain": [
       "<Figure size 500x400 with 1 Axes>"
      ]
     },
     "metadata": {},
     "output_type": "display_data"
    }
   ],
   "source": [
    "for event in ['login', 'product_page', 'product_cart', 'purchase']:                       #задаю списком в нужном порядке\n",
    "    recom_test.query('event_name == @event').pivot_table(index='event_date', columns=['group', 'event_name'], \n",
    "                       values='user_id', aggfunc='count').plot(figsize=(5,4))\n",
    "    plt.title('Количество событий по дням с разбивкой по тестовым группам')\n",
    "    plt.xlabel('Дата')\n",
    "    plt.xticks(rotation=30)\n",
    "    plt.ylabel('Количество событий')\n",
    "    plt.legend(title='Группа теста, событие')\n",
    "    plt.grid();"
   ]
  },
  {
   "cell_type": "markdown",
   "id": "f32344e7",
   "metadata": {},
   "source": [
    "14 и 21 декабря наблюдаются резкие скачки количества событий для группы А - очевидно это можно связать с большим количеством новых зарегистрировавшихся пользователей в эти дни. Т.к. такого большого притока участников в группу B не было ни в один из дней, то и количество событий (каждого типа) для группы В стабильно меньше, чем для группы А. И больше всего действий пользователей совершает именно в день регистрации. Количество событий по группе В превышает количество событий по группе А только в первый день, что опять же связано с количество регистраций.\n",
    "\n",
    "В последние пару дней несмотря на то, что количество регистраций в обеих группах росло, количество событий каждого типа уменьшается - это говорит о том, что в эти дни пришли менее качественные пользователи, которые не были активными."
   ]
  },
  {
   "cell_type": "markdown",
   "id": "16c664b7",
   "metadata": {},
   "source": [
    "Т.к. группы несбалансированны, то сравнивать их по абсолютным значениям не совсем корректно, поэтому также посмотрим сколько в среднем различных событий совершали участники каждой из групп."
   ]
  },
  {
   "cell_type": "code",
   "execution_count": 64,
   "id": "bb4c6396",
   "metadata": {},
   "outputs": [],
   "source": [
    "event_per_user = recom_test.groupby(['group', 'event_name']).agg(total=('user_id', 'count'),\n",
    "                                               unique=('user_id', 'nunique'))\n",
    "event_per_user['mean'] = round(event_per_user['total']/event_per_user['unique'], 1)"
   ]
  },
  {
   "cell_type": "code",
   "execution_count": 65,
   "id": "2e75fde1",
   "metadata": {},
   "outputs": [
    {
     "name": "stdout",
     "output_type": "stream",
     "text": [
      "Среднее количество событий на пользователя по группам\n"
     ]
    },
    {
     "data": {
      "text/html": [
       "<div>\n",
       "<style scoped>\n",
       "    .dataframe tbody tr th:only-of-type {\n",
       "        vertical-align: middle;\n",
       "    }\n",
       "\n",
       "    .dataframe tbody tr th {\n",
       "        vertical-align: top;\n",
       "    }\n",
       "\n",
       "    .dataframe thead th {\n",
       "        text-align: right;\n",
       "    }\n",
       "</style>\n",
       "<table border=\"1\" class=\"dataframe\">\n",
       "  <thead>\n",
       "    <tr style=\"text-align: right;\">\n",
       "      <th></th>\n",
       "      <th></th>\n",
       "      <th>total</th>\n",
       "      <th>unique</th>\n",
       "      <th>mean</th>\n",
       "    </tr>\n",
       "    <tr>\n",
       "      <th>group</th>\n",
       "      <th>event_name</th>\n",
       "      <th></th>\n",
       "      <th></th>\n",
       "      <th></th>\n",
       "    </tr>\n",
       "  </thead>\n",
       "  <tbody>\n",
       "    <tr>\n",
       "      <th rowspan=\"4\" valign=\"top\">A</th>\n",
       "      <th>login</th>\n",
       "      <td>7907</td>\n",
       "      <td>2604</td>\n",
       "      <td>3.0</td>\n",
       "    </tr>\n",
       "    <tr>\n",
       "      <th>product_cart</th>\n",
       "      <td>2361</td>\n",
       "      <td>782</td>\n",
       "      <td>3.0</td>\n",
       "    </tr>\n",
       "    <tr>\n",
       "      <th>product_page</th>\n",
       "      <td>5082</td>\n",
       "      <td>1685</td>\n",
       "      <td>3.0</td>\n",
       "    </tr>\n",
       "    <tr>\n",
       "      <th>purchase</th>\n",
       "      <td>2485</td>\n",
       "      <td>833</td>\n",
       "      <td>3.0</td>\n",
       "    </tr>\n",
       "    <tr>\n",
       "      <th rowspan=\"4\" valign=\"top\">B</th>\n",
       "      <th>login</th>\n",
       "      <td>2310</td>\n",
       "      <td>876</td>\n",
       "      <td>2.6</td>\n",
       "    </tr>\n",
       "    <tr>\n",
       "      <th>product_cart</th>\n",
       "      <td>617</td>\n",
       "      <td>244</td>\n",
       "      <td>2.5</td>\n",
       "    </tr>\n",
       "    <tr>\n",
       "      <th>product_page</th>\n",
       "      <td>1240</td>\n",
       "      <td>493</td>\n",
       "      <td>2.5</td>\n",
       "    </tr>\n",
       "    <tr>\n",
       "      <th>purchase</th>\n",
       "      <td>618</td>\n",
       "      <td>249</td>\n",
       "      <td>2.5</td>\n",
       "    </tr>\n",
       "  </tbody>\n",
       "</table>\n",
       "</div>"
      ],
      "text/plain": [
       "                    total  unique  mean\n",
       "group event_name                       \n",
       "A     login          7907    2604   3.0\n",
       "      product_cart   2361     782   3.0\n",
       "      product_page   5082    1685   3.0\n",
       "      purchase       2485     833   3.0\n",
       "B     login          2310     876   2.6\n",
       "      product_cart    617     244   2.5\n",
       "      product_page   1240     493   2.5\n",
       "      purchase        618     249   2.5"
      ]
     },
     "execution_count": 65,
     "metadata": {},
     "output_type": "execute_result"
    }
   ],
   "source": [
    "print('Среднее количество событий на пользователя по группам')\n",
    "event_per_user"
   ]
  },
  {
   "cell_type": "markdown",
   "id": "c8eb19a5",
   "metadata": {},
   "source": [
    "В среднем по каждому из событий участники обеих групп совершили их примерно одинаковое количество раз, в контрольной группе каждое действие совершали немного чаще, чем в экспериментальной группе."
   ]
  },
  {
   "cell_type": "code",
   "execution_count": 66,
   "id": "50130e07",
   "metadata": {},
   "outputs": [
    {
     "data": {
      "text/html": [
       "<div>\n",
       "<style scoped>\n",
       "    .dataframe tbody tr th:only-of-type {\n",
       "        vertical-align: middle;\n",
       "    }\n",
       "\n",
       "    .dataframe tbody tr th {\n",
       "        vertical-align: top;\n",
       "    }\n",
       "\n",
       "    .dataframe thead tr th {\n",
       "        text-align: left;\n",
       "    }\n",
       "\n",
       "    .dataframe thead tr:last-of-type th {\n",
       "        text-align: right;\n",
       "    }\n",
       "</style>\n",
       "<table border=\"1\" class=\"dataframe\">\n",
       "  <thead>\n",
       "    <tr>\n",
       "      <th></th>\n",
       "      <th colspan=\"2\" halign=\"left\">count</th>\n",
       "    </tr>\n",
       "    <tr>\n",
       "      <th></th>\n",
       "      <th>mean</th>\n",
       "      <th>median</th>\n",
       "    </tr>\n",
       "    <tr>\n",
       "      <th>group</th>\n",
       "      <th></th>\n",
       "      <th></th>\n",
       "    </tr>\n",
       "  </thead>\n",
       "  <tbody>\n",
       "    <tr>\n",
       "      <th>A</th>\n",
       "      <td>6.849078</td>\n",
       "      <td>6.0</td>\n",
       "    </tr>\n",
       "    <tr>\n",
       "      <th>B</th>\n",
       "      <td>5.456100</td>\n",
       "      <td>4.0</td>\n",
       "    </tr>\n",
       "  </tbody>\n",
       "</table>\n",
       "</div>"
      ],
      "text/plain": [
       "          count       \n",
       "           mean median\n",
       "group                 \n",
       "A      6.849078    6.0\n",
       "B      5.456100    4.0"
      ]
     },
     "execution_count": 66,
     "metadata": {},
     "output_type": "execute_result"
    }
   ],
   "source": [
    "df = recom_test.groupby(['group', 'user_id'], as_index=False).agg(count=('event_name', 'count'))\n",
    "dfdf = df[['group', 'count']]\n",
    "dfdf.groupby('group').agg({'count': ['mean', 'median']})"
   ]
  },
  {
   "cell_type": "markdown",
   "id": "994dbd2f",
   "metadata": {},
   "source": [
    "Если смотреть общее количество событий на пользователя (без разбивки по типу события), то группа А все так же немного активнее группы В, как по по среднему значению, так и по медианному. "
   ]
  },
  {
   "cell_type": "markdown",
   "id": "4c063865",
   "metadata": {},
   "source": [
    "### Воронка и конверсия"
   ]
  },
  {
   "cell_type": "markdown",
   "id": "c1ed3cec",
   "metadata": {},
   "source": [
    "Построим воронку продаж, порядок действий пользователя после регистрации считаем следующим: логин, просмотр страницы товара, просмотр корзины (перемещение товара в корзину), покупка."
   ]
  },
  {
   "cell_type": "code",
   "execution_count": 67,
   "id": "cb35e655",
   "metadata": {},
   "outputs": [],
   "source": [
    "funnel = recom_test.pivot_table(index='event_name', columns='group', values='user_id', aggfunc='nunique')\n",
    "funnel = funnel.reindex(['login', 'product_page', 'product_cart', 'purchase'])"
   ]
  },
  {
   "cell_type": "code",
   "execution_count": 68,
   "id": "191b796e",
   "metadata": {},
   "outputs": [
    {
     "name": "stdout",
     "output_type": "stream",
     "text": [
      "Requirement already satisfied: kaleido in c:\\users\\tatia\\anaconda3\\lib\\site-packages (0.2.1)\n"
     ]
    }
   ],
   "source": [
    "! pip install -U kaleido"
   ]
  },
  {
   "cell_type": "code",
   "execution_count": 69,
   "id": "d0db4857",
   "metadata": {},
   "outputs": [
    {
     "data": {
      "image/png": "[encoded data removed]"
     },
     "metadata": {},
     "output_type": "display_data"
    }
   ],
   "source": [
    "fig = px.funnel(funnel, title='Воронка продаж по тестовым группам', \n",
    "          labels={'event_name': 'событие', 'group': 'группа', 'value': 'число пользователей'})\n",
    "fig.show('png')"
   ]
  },
  {
   "cell_type": "markdown",
   "id": "e932b268",
   "metadata": {},
   "source": [
    "Можно отметить, что покупок больше, чем просмотров корзин, значит просмотр корзин необязательный этапд для оформления заказа, т.е. доступна \"быстрая покупка\". По этой причине конверсию будем считать только относительно первого этапа (login), а не относительно предыдущего, иначе на последнем этапе конверсия будет больше 100%.\n",
    "\n",
    "Посчитаем конверсию."
   ]
  },
  {
   "cell_type": "code",
   "execution_count": 70,
   "id": "db3832cb",
   "metadata": {},
   "outputs": [],
   "source": [
    "funnel = funnel.reset_index()"
   ]
  },
  {
   "cell_type": "code",
   "execution_count": 71,
   "id": "7bea624f",
   "metadata": {},
   "outputs": [],
   "source": [
    "for group in ['A', 'B']:\n",
    "    for i in range(len(funnel.index) - 1):\n",
    "        if group == 'A':\n",
    "            funnel.loc[0,'conv_A, %'] = 100\n",
    "            funnel.loc[i+1,'conv_A, %'] = round(100*funnel.loc[i+1, group]/funnel.loc[0, group], 2)\n",
    "        else:\n",
    "            funnel.loc[0,'conv_B, %'] = 100\n",
    "            funnel.loc[i+1, 'conv_B, %'] = round(100*funnel.loc[i+1, group]/funnel.loc[0, group], 2)    \n",
    "        "
   ]
  },
  {
   "cell_type": "code",
   "execution_count": 72,
   "id": "dae96efe",
   "metadata": {},
   "outputs": [
    {
     "data": {
      "text/html": [
       "<div>\n",
       "<style scoped>\n",
       "    .dataframe tbody tr th:only-of-type {\n",
       "        vertical-align: middle;\n",
       "    }\n",
       "\n",
       "    .dataframe tbody tr th {\n",
       "        vertical-align: top;\n",
       "    }\n",
       "\n",
       "    .dataframe thead th {\n",
       "        text-align: right;\n",
       "    }\n",
       "</style>\n",
       "<table border=\"1\" class=\"dataframe\">\n",
       "  <thead>\n",
       "    <tr style=\"text-align: right;\">\n",
       "      <th>group</th>\n",
       "      <th>event_name</th>\n",
       "      <th>A</th>\n",
       "      <th>B</th>\n",
       "      <th>conv_A, %</th>\n",
       "      <th>conv_B, %</th>\n",
       "    </tr>\n",
       "  </thead>\n",
       "  <tbody>\n",
       "    <tr>\n",
       "      <th>0</th>\n",
       "      <td>login</td>\n",
       "      <td>2604</td>\n",
       "      <td>876</td>\n",
       "      <td>100.00</td>\n",
       "      <td>100.00</td>\n",
       "    </tr>\n",
       "    <tr>\n",
       "      <th>1</th>\n",
       "      <td>product_page</td>\n",
       "      <td>1685</td>\n",
       "      <td>493</td>\n",
       "      <td>64.71</td>\n",
       "      <td>56.28</td>\n",
       "    </tr>\n",
       "    <tr>\n",
       "      <th>2</th>\n",
       "      <td>product_cart</td>\n",
       "      <td>782</td>\n",
       "      <td>244</td>\n",
       "      <td>30.03</td>\n",
       "      <td>27.85</td>\n",
       "    </tr>\n",
       "    <tr>\n",
       "      <th>3</th>\n",
       "      <td>purchase</td>\n",
       "      <td>833</td>\n",
       "      <td>249</td>\n",
       "      <td>31.99</td>\n",
       "      <td>28.42</td>\n",
       "    </tr>\n",
       "  </tbody>\n",
       "</table>\n",
       "</div>"
      ],
      "text/plain": [
       "group    event_name     A    B  conv_A, %  conv_B, %\n",
       "0             login  2604  876     100.00     100.00\n",
       "1      product_page  1685  493      64.71      56.28\n",
       "2      product_cart   782  244      30.03      27.85\n",
       "3          purchase   833  249      31.99      28.42"
      ]
     },
     "execution_count": 72,
     "metadata": {},
     "output_type": "execute_result"
    }
   ],
   "source": [
    "funnel"
   ]
  },
  {
   "cell_type": "markdown",
   "id": "0a1fa51a",
   "metadata": {},
   "source": [
    "Конверсия по группе Б на каждом шаге ниже, чем конверсия по группе А, то есть экспериментальная группа показала ухудшение всех метрик по сравнению с контрольной группой. Ожидаемый результат по улучшению метрик от внедрения новой рекомендательной системы не достигнут."
   ]
  },
  {
   "cell_type": "markdown",
   "id": "83b80f4d",
   "metadata": {},
   "source": [
    "Дополнительно попробуем определить другие характеристики участников обеих тестовых групп, чтобы понять насколько похоже/различается их поведение. Для этого посмотрим средний чек покупки по группам, а также распределение пользователей по устройствам."
   ]
  },
  {
   "cell_type": "code",
   "execution_count": 73,
   "id": "5acbb8f5",
   "metadata": {},
   "outputs": [
    {
     "data": {
      "text/html": [
       "<div>\n",
       "<style scoped>\n",
       "    .dataframe tbody tr th:only-of-type {\n",
       "        vertical-align: middle;\n",
       "    }\n",
       "\n",
       "    .dataframe tbody tr th {\n",
       "        vertical-align: top;\n",
       "    }\n",
       "\n",
       "    .dataframe thead th {\n",
       "        text-align: right;\n",
       "    }\n",
       "</style>\n",
       "<table border=\"1\" class=\"dataframe\">\n",
       "  <thead>\n",
       "    <tr style=\"text-align: right;\">\n",
       "      <th></th>\n",
       "      <th>users</th>\n",
       "      <th>purchases</th>\n",
       "      <th>avg_purchase</th>\n",
       "    </tr>\n",
       "    <tr>\n",
       "      <th>group</th>\n",
       "      <th></th>\n",
       "      <th></th>\n",
       "      <th></th>\n",
       "    </tr>\n",
       "  </thead>\n",
       "  <tbody>\n",
       "    <tr>\n",
       "      <th>A</th>\n",
       "      <td>833</td>\n",
       "      <td>2485</td>\n",
       "      <td>23.1</td>\n",
       "    </tr>\n",
       "    <tr>\n",
       "      <th>B</th>\n",
       "      <td>249</td>\n",
       "      <td>618</td>\n",
       "      <td>23.0</td>\n",
       "    </tr>\n",
       "  </tbody>\n",
       "</table>\n",
       "</div>"
      ],
      "text/plain": [
       "       users  purchases  avg_purchase\n",
       "group                                \n",
       "A        833       2485          23.1\n",
       "B        249        618          23.0"
      ]
     },
     "execution_count": 73,
     "metadata": {},
     "output_type": "execute_result"
    }
   ],
   "source": [
    "#средняя сумма покупки по группам\n",
    "avg_bill= recom_test[recom_test['details'].notnull()].groupby('group').agg(users=('user_id', 'nunique'),\n",
    "                                                                 purchases=('user_id', 'count'),\n",
    "                                                                 avg_purchase=('details', 'mean'))\n",
    "avg_bill['avg_purchase'] = round(avg_bill['avg_purchase'], 1)\n",
    "avg_bill"
   ]
  },
  {
   "cell_type": "markdown",
   "id": "fbdc8700",
   "metadata": {},
   "source": [
    "Средний чек по группам практически не отличается, т.е. участники каждой группы совершили примерно одинаковое количество заказов на пользователя. Покпуательское поведение групп схоже."
   ]
  },
  {
   "cell_type": "code",
   "execution_count": 74,
   "id": "589c1b77",
   "metadata": {},
   "outputs": [
    {
     "data": {
      "image/png": "[encoded data removed]",
      "text/plain": [
       "<Figure size 640x480 with 1 Axes>"
      ]
     },
     "metadata": {},
     "output_type": "display_data"
    }
   ],
   "source": [
    "sns.barplot(data = (recom_test.groupby(['group', 'device'], as_index=False)\n",
    "                    .agg({'user_id': 'nunique'})\n",
    "                    .sort_values(by='user_id', ascending=False)),\n",
    "            x='device', y='user_id', hue='group', palette=['teal', 'limegreen'])\n",
    "plt.grid()\n",
    "plt.legend(title='Группа теста')\n",
    "plt.title('Распределение участников тестовых групп по используемым устройствам')\n",
    "plt.ylabel('Количество пользователей')\n",
    "plt.xlabel('Устройство');"
   ]
  },
  {
   "cell_type": "markdown",
   "id": "a7dc1e51",
   "metadata": {},
   "source": [
    "Распределение участников групп по используемым устройствам также схоже: в каждой группе больше всего пользователей Android и меньше всего Mac."
   ]
  },
  {
   "cell_type": "markdown",
   "id": "a75b1650",
   "metadata": {},
   "source": [
    "### Особенности\n",
    "Прежде чем приступать к А/Б тестированию необходимо учесть следующие особенности имеющихся данных:\n",
    "- тест проводился одновременно с другим, конкурирующим А/Б тестом, при чем аудитории тестов имеют пересечения (с обеими группами конкурирующего теста);\n",
    "- одновременно с проведением теста проходила маркетинговая акция, которая могла исказить результаты;\n",
    "- тест проводился в предновогодний период, т.е. был подвержен сезонным изменениям поведения пользователей;\n",
    "- требование ТЗ по количеству участников теста и соответственно по доле пользователей из Европы сначала соблюдалось, однако при более детальном анализе участников теста было обнаружено, что почти половина из них не могут быть учтены при оценке метрик, т.к. помимо регистрации не совершали других действий;\n",
    "- количество участников теста неравномерно распределено между группами А и Б\n",
    "- поведение участников обеих групп схоже по среднему чеку и используемым устройствам.\n"
   ]
  },
  {
   "cell_type": "markdown",
   "id": "e6e7907a",
   "metadata": {},
   "source": [
    "## Оцените результаты A/B-тестирования"
   ]
  },
  {
   "cell_type": "markdown",
   "id": "9ed6235d",
   "metadata": {},
   "source": [
    "Проверим равномерность распределения участников тестовых групп на каждом этапе воронки. Т.к. на одних и тех же данных будет проводится несколько сравнений (сравнение для каждого этапа воронки кроме первого), то это множественный тест, а значит нужно использовать поправку, например, Шидака, чтобы не терять мощность теста.\n",
    "\n",
    "Для каждого этапа воронки будет проверяться следующий набор гипотез:\n",
    "- H0: количество участников в каждой группе (доли) на каждом этапе воронки НЕ имею статистически значимой разницы;\n",
    "- H1: доли имеют статистически значимую разницу."
   ]
  },
  {
   "cell_type": "code",
   "execution_count": 75,
   "id": "5f21941c",
   "metadata": {},
   "outputs": [],
   "source": [
    "nobs = np.array(funnel.loc[0, ['A', 'B']]) #всего залогинившихся пользователей в каждой из групп"
   ]
  },
  {
   "cell_type": "code",
   "execution_count": 76,
   "id": "6316b135",
   "metadata": {},
   "outputs": [
    {
     "name": "stdout",
     "output_type": "stream",
     "text": [
      "[1685 493] [2604 876]\n",
      "Тест для этапа product_page\n",
      "p-значение:  8.195976000351998e-06\n",
      "Отвергаем нулевую гипотезу: между долями есть значимая разница\n",
      "-------------------------------------------------------------------------------\n",
      "[782 244] [2604 876]\n",
      "Тест для этапа product_cart\n",
      "p-значение:  0.2215941567364419\n",
      "Не получилось отвергнуть нулевую гипотезу, нет оснований считать доли разными\n",
      "-------------------------------------------------------------------------------\n",
      "[833 249] [2604 876]\n",
      "Тест для этапа purchase\n",
      "p-значение:  0.0486476669504243\n",
      "Не получилось отвергнуть нулевую гипотезу, нет оснований считать доли разными\n",
      "-------------------------------------------------------------------------------\n"
     ]
    }
   ],
   "source": [
    "alpha = .05\n",
    "alpha_corr = 1 - (1 - alpha)**(1/(len(funnel.index) - 1)) #с поправкой Шидака\n",
    "\n",
    "for i in range(1, len(funnel.index)):\n",
    "    success = np.array(funnel.loc[i, ['A', 'B']])\n",
    "    z_stat, p_value = proportions_ztest(success, nobs)\n",
    "    print(success, nobs)\n",
    "    print('Тест для этапа', funnel.loc[i, 'event_name'])\n",
    "    print('p-значение: ', p_value)\n",
    "\n",
    "    if p_value < alpha_corr:\n",
    "        print('Отвергаем нулевую гипотезу: между долями есть значимая разница')\n",
    "    else:\n",
    "        print('Не получилось отвергнуть нулевую гипотезу, нет оснований считать доли разными')\n",
    "    print('-------------------------------------------------------------------------------')"
   ]
  },
  {
   "cell_type": "markdown",
   "id": "3c19dea0",
   "metadata": {},
   "source": [
    "На этапе просмотра страницы товара количество участников в группах имеет статистически значимую разницу, а значит сделать вывод об изменении исследуемой метрики сделать нельзя.\n",
    "\n",
    "На этапах просмотра корзины и совершения покупки количество учатсников в группах не имеют статистически значимых различий, при этом конверсия для контрольной группы на обоих этапах выше, чем для экспериментальной группы примерно на 3%. То есть вместо ожидаемого улучшения конверсии на 10% мы получили ухудшение на 3%. Получается, что внедрение улучшенной рекомендательной системы стоит отложить."
   ]
  },
  {
   "cell_type": "markdown",
   "id": "8facf445",
   "metadata": {},
   "source": [
    "## Вывод\n",
    "корректно ли проведен тест\n",
    "какие нарушения (замечания) к проведению теста\n",
    "что соответсвовало ТЗ, что нет, что в какой-то момент перестало соответствовать\n",
    "рекомендации (стоит ли доверять резульаттам, получили хуже/лучше ожидаемого?)"
   ]
  },
  {
   "cell_type": "markdown",
   "id": "ff10f7e3",
   "metadata": {},
   "source": [
    "На основе полученных результатов можно сделать вывод о том, что А/В тестирование было проведено **некорректно**, выявлены следующие нарушения:\n",
    "- требование ТЗ по количеству участников теста и соответственно по доле пользователей из Европы сначала было удовлетворено, однако при более детальном анализе участников теста было обнаружено, что почти половина из них не могут быть учтены при оценке метрик, т.к. помимо регистрации не совершали других действий. Для корректного проведения теста необходимо, чтобы на этапе покупки (базовая конверсия 31,99% согласно результатам контрольной группы) было не менее 3361 участника (см. ниже);\n",
    "- количество участников теста неравномерно распределено между группами А и В (в контрольной группе в 3 раза больше, чем в экспериментальной). Вероятно необходимо было выбрать другой период регистарции пользователей в тест - по регистрациям в группу А наблюдались большие скачки 14 и 21 декабря;\n",
    "- период совершения различных событий участниками теста укладывается в даты проведения теста, однако последние действия были совершены 30 декабря, в то время как дата окончания теста - 4 января;\n",
    "- некоторые участники теста совершали действия после 14-го дня с момента регистрации, что не соответствует требованиям ТЗ, такие пользователи не учитывались в анализе, что уменьшило мощность теста;\n",
    "- одновременно с проведением теста проходила маркетинговая акция, которая могла повлиять на поведение пользователей и исказить результаты;\n",
    "- тест проводился в предновогодний период, т.е. был подвержен сезонным изменениям поведения пользователей;\n",
    "- тест проводился одновременно с другим, конкурирующим А/Б тестом, при чем аудитории тестов имеют пересечения - 25% пользователей рассматриваемого теста также стали участниками другого теста (обеих группами). Таким образом участники конкурирующего теста могли оказать влияние на исследуемый тест и исказить его результаты. Было принято решение учесть в анализе пользователей, попавших в экспериментальную группу другого теста, т.к. они равномерно распределены между группами нашего теста, а значит оказывают одинаковое влияние;"
   ]
  },
  {
   "cell_type": "markdown",
   "id": "47080510",
   "metadata": {},
   "source": [
    "Воронка продаж имеет следующую структуру (после регистрации пользователя): логин, просмотр страницы товара, просмотр корзины (перемещение товара в корзину), покупка. Для каждого из этапов наиболее количество совершенных действий приходится на первые сутки после регистрации. Далее количество событий постепенно уменьшается. При этом совершить покупку можно минуя этап с просмотром корзины, поэтому конверсия на каждом из этапов расчитывалась относительно действия login.\n",
    "\n",
    "По результатам теста внедрение улучшенной рекомендательной системы не показало ожидаемых результатов, а наоборот ухудшило имеющиеся показатели. Однако, т.к. тест был проведен с нарушениями доверять полученным результатам нельзя. Рекмоендуется провести тест повторно, выбрав более удачный период времени (без параллельных тестов и без сезонных характерных изменений) с учетом всех требований ТЗ.\n"
   ]
  },
  {
   "cell_type": "markdown",
   "id": "699baf9b",
   "metadata": {},
   "source": [
    "Рекомендуемое количество участников теста, совершивших покупку:"
   ]
  },
  {
   "attachments": {
    "image.png": {
     "image/png": "[encoded data removed]"
    }
   },
   "cell_type": "markdown",
   "id": "3aeea9e1",
   "metadata": {},
   "source": [
    "![image.png](attachment:image.png)"
   ]
  }
 ],
 "metadata": {
  "ExecuteTimeLog": [
   {
    "duration": 1483,
    "start_time": "2023-08-06T18:33:32.716Z"
   },
   {
    "duration": 2,
    "start_time": "2023-08-06T18:33:34.202Z"
   },
   {
    "duration": 1263,
    "start_time": "2023-08-06T18:33:34.205Z"
   },
   {
    "duration": 43,
    "start_time": "2023-08-06T18:33:35.472Z"
   },
   {
    "duration": 8,
    "start_time": "2023-08-06T18:33:35.517Z"
   },
   {
    "duration": 47,
    "start_time": "2023-08-06T18:33:35.526Z"
   },
   {
    "duration": 5,
    "start_time": "2023-08-06T18:33:35.575Z"
   },
   {
    "duration": 22,
    "start_time": "2023-08-06T18:33:35.581Z"
   },
   {
    "duration": 114,
    "start_time": "2023-08-06T18:33:35.604Z"
   },
   {
    "duration": 45,
    "start_time": "2023-08-06T18:33:35.719Z"
   },
   {
    "duration": 12,
    "start_time": "2023-08-06T18:33:35.766Z"
   },
   {
    "duration": 40,
    "start_time": "2023-08-06T18:33:35.780Z"
   },
   {
    "duration": 131,
    "start_time": "2023-08-06T18:33:35.821Z"
   },
   {
    "duration": 254,
    "start_time": "2023-08-06T18:33:35.955Z"
   },
   {
    "duration": 129,
    "start_time": "2023-08-06T18:33:36.211Z"
   },
   {
    "duration": 40,
    "start_time": "2023-08-06T18:33:36.341Z"
   },
   {
    "duration": 45,
    "start_time": "2023-08-06T18:33:36.383Z"
   },
   {
    "duration": 22,
    "start_time": "2023-08-06T18:33:36.430Z"
   },
   {
    "duration": 22,
    "start_time": "2023-08-06T18:33:36.453Z"
   },
   {
    "duration": 10,
    "start_time": "2023-08-06T18:33:36.477Z"
   },
   {
    "duration": 15,
    "start_time": "2023-08-06T18:33:36.489Z"
   },
   {
    "duration": 18,
    "start_time": "2023-08-06T18:33:36.505Z"
   },
   {
    "duration": 35,
    "start_time": "2023-08-06T18:33:36.525Z"
   },
   {
    "duration": 13,
    "start_time": "2023-08-06T18:33:36.565Z"
   },
   {
    "duration": 23,
    "start_time": "2023-08-06T18:33:36.580Z"
   },
   {
    "duration": 4,
    "start_time": "2023-08-06T18:33:36.604Z"
   },
   {
    "duration": 9,
    "start_time": "2023-08-06T18:33:36.610Z"
   },
   {
    "duration": 37,
    "start_time": "2023-08-06T18:33:36.621Z"
   },
   {
    "duration": 19,
    "start_time": "2023-08-06T18:33:36.661Z"
   },
   {
    "duration": 11,
    "start_time": "2023-08-06T18:33:36.682Z"
   },
   {
    "duration": 29,
    "start_time": "2023-08-06T18:33:36.694Z"
   },
   {
    "duration": 32,
    "start_time": "2023-08-06T18:33:36.725Z"
   },
   {
    "duration": 10,
    "start_time": "2023-08-06T18:33:36.765Z"
   },
   {
    "duration": 15,
    "start_time": "2023-08-06T18:33:36.777Z"
   },
   {
    "duration": 13,
    "start_time": "2023-08-06T18:33:36.793Z"
   },
   {
    "duration": 47,
    "start_time": "2023-08-06T18:33:36.808Z"
   },
   {
    "duration": 5,
    "start_time": "2023-08-06T18:33:36.861Z"
   },
   {
    "duration": 24,
    "start_time": "2023-08-06T18:33:36.868Z"
   },
   {
    "duration": 4,
    "start_time": "2023-08-06T18:33:36.893Z"
   },
   {
    "duration": 9,
    "start_time": "2023-08-06T18:33:36.898Z"
   },
   {
    "duration": 111,
    "start_time": "2023-08-06T18:33:36.911Z"
   },
   {
    "duration": 11,
    "start_time": "2023-08-06T18:33:37.023Z"
   },
   {
    "duration": 30,
    "start_time": "2023-08-06T18:33:37.035Z"
   },
   {
    "duration": 34,
    "start_time": "2023-08-06T18:33:37.069Z"
   },
   {
    "duration": 17,
    "start_time": "2023-08-06T18:33:37.104Z"
   },
   {
    "duration": 33,
    "start_time": "2023-08-06T18:33:37.123Z"
   },
   {
    "duration": 28,
    "start_time": "2023-08-06T18:33:37.157Z"
   },
   {
    "duration": 23,
    "start_time": "2023-08-06T18:33:37.187Z"
   },
   {
    "duration": 21,
    "start_time": "2023-08-06T18:33:37.211Z"
   },
   {
    "duration": 12,
    "start_time": "2023-08-06T18:33:37.233Z"
   },
   {
    "duration": 35,
    "start_time": "2023-08-06T18:33:37.248Z"
   },
   {
    "duration": 6,
    "start_time": "2023-08-06T18:33:37.285Z"
   },
   {
    "duration": 6,
    "start_time": "2023-08-06T18:33:37.293Z"
   },
   {
    "duration": 17,
    "start_time": "2023-08-06T18:33:37.301Z"
   },
   {
    "duration": 9,
    "start_time": "2023-08-06T18:33:37.319Z"
   },
   {
    "duration": 18,
    "start_time": "2023-08-06T18:33:37.330Z"
   },
   {
    "duration": 41,
    "start_time": "2023-08-06T18:33:37.349Z"
   },
   {
    "duration": 10,
    "start_time": "2023-08-06T18:33:37.391Z"
   },
   {
    "duration": 258,
    "start_time": "2023-08-06T18:33:37.402Z"
   },
   {
    "duration": 9,
    "start_time": "2023-08-06T18:33:37.669Z"
   },
   {
    "duration": 6,
    "start_time": "2023-08-06T18:33:37.679Z"
   },
   {
    "duration": 17,
    "start_time": "2023-08-06T18:33:37.687Z"
   },
   {
    "duration": 14,
    "start_time": "2023-08-06T18:33:37.705Z"
   },
   {
    "duration": 330,
    "start_time": "2023-08-06T18:33:37.721Z"
   },
   {
    "duration": 246,
    "start_time": "2023-08-06T18:33:38.055Z"
   },
   {
    "duration": 18,
    "start_time": "2023-08-06T18:33:38.303Z"
   },
   {
    "duration": 41,
    "start_time": "2023-08-06T18:33:38.322Z"
   },
   {
    "duration": 49,
    "start_time": "2023-08-06T18:33:38.375Z"
   },
   {
    "duration": 834,
    "start_time": "2023-08-06T18:33:38.426Z"
   },
   {
    "duration": 19,
    "start_time": "2023-08-06T18:33:39.261Z"
   },
   {
    "duration": 991,
    "start_time": "2023-08-06T18:33:39.282Z"
   },
   {
    "duration": 4,
    "start_time": "2023-08-06T18:33:40.274Z"
   },
   {
    "duration": 26,
    "start_time": "2023-08-06T18:33:40.280Z"
   },
   {
    "duration": 56,
    "start_time": "2023-08-06T18:33:40.308Z"
   },
   {
    "duration": 27,
    "start_time": "2023-08-06T18:33:40.366Z"
   },
   {
    "duration": 231,
    "start_time": "2023-08-06T18:33:40.394Z"
   },
   {
    "duration": 4,
    "start_time": "2023-08-06T18:33:40.627Z"
   },
   {
    "duration": 15,
    "start_time": "2023-08-06T18:33:40.633Z"
   },
   {
    "duration": 32,
    "start_time": "2023-08-06T18:54:26.338Z"
   },
   {
    "duration": 10,
    "start_time": "2023-08-06T18:55:38.965Z"
   }
  ],
  "kernelspec": {
   "display_name": "Python 3 (ipykernel)",
   "language": "python",
   "name": "python3"
  },
  "language_info": {
   "codemirror_mode": {
    "name": "ipython",
    "version": 3
   },
   "file_extension": ".py",
   "mimetype": "text/x-python",
   "name": "python",
   "nbconvert_exporter": "python",
   "pygments_lexer": "ipython3",
   "version": "3.9.13"
  },
  "toc": {
   "base_numbering": 1,
   "nav_menu": {},
   "number_sections": true,
   "sideBar": true,
   "skip_h1_title": true,
   "title_cell": "Table of Contents",
   "title_sidebar": "Contents",
   "toc_cell": true,
   "toc_position": {},
   "toc_section_display": true,
   "toc_window_display": true
  }
 },
 "nbformat": 4,
 "nbformat_minor": 5
}
